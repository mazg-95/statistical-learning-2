{
  "nbformat": 4,
  "nbformat_minor": 0,
  "metadata": {
    "colab": {
      "name": "XOR_con_perceptrones.ipynb",
      "provenance": [],
      "include_colab_link": true
    },
    "kernelspec": {
      "name": "python3",
      "display_name": "Python 3"
    }
  },
  "cells": [
    {
      "cell_type": "markdown",
      "metadata": {
        "id": "view-in-github",
        "colab_type": "text"
      },
      "source": [
        "<a href=\"https://colab.research.google.com/github/mazg-95/statistical-learning-2/blob/main/Lab5/XOR_con_perceptrones.ipynb\" target=\"_parent\"><img src=\"https://colab.research.google.com/assets/colab-badge.svg\" alt=\"Open In Colab\"/></a>"
      ]
    },
    {
      "cell_type": "code",
      "metadata": {
        "id": "NQWMY-_vMqgx",
        "colab": {
          "base_uri": "https://localhost:8080/"
        },
        "outputId": "34eda7f2-df7e-4f5d-9921-f72bf4f0a6e9"
      },
      "source": [
        "def  operacion_or(x1,x2):\n",
        "  parametros = [1,1,0]\n",
        "  return  int(x1*parametros[0]  + x2*parametros[1] + parametros[2] > 0)\n",
        " \n",
        "testx1 = 1\n",
        "testx2 = 1\n",
        " \n",
        "operacion_or(testx1,testx2)"
      ],
      "execution_count": 1,
      "outputs": [
        {
          "output_type": "execute_result",
          "data": {
            "text/plain": [
              "1"
            ]
          },
          "metadata": {},
          "execution_count": 1
        }
      ]
    },
    {
      "cell_type": "code",
      "metadata": {
        "id": "5D-YWRCHOR-6",
        "colab": {
          "base_uri": "https://localhost:8080/"
        },
        "outputId": "df82a0a8-125d-4f27-ffc7-82d861af708e"
      },
      "source": [
        "def  operacion_and(x1,x2):\n",
        "  parametros = [1,1,-1]\n",
        " \n",
        "  return  int(x1*parametros[0]  + x2*parametros[1] + parametros[2] > 0)\n",
        " \n",
        "testx1 = 0\n",
        "testx2 = 1\n",
        " \n",
        "operacion_and(testx1,testx2)"
      ],
      "execution_count": 3,
      "outputs": [
        {
          "output_type": "execute_result",
          "data": {
            "text/plain": [
              "0"
            ]
          },
          "metadata": {},
          "execution_count": 3
        }
      ]
    },
    {
      "cell_type": "code",
      "metadata": {
        "colab": {
          "base_uri": "https://localhost:8080/"
        },
        "id": "ILT_ti_WyH8i",
        "outputId": "589ce9b8-4dd6-419c-a2d4-7586555a8a47"
      },
      "source": [
        "def operacion_not(x1):\n",
        "    parametros = [-1, 1]\n",
        "    return int(x1*parametros[0] + parametros[1] > 0)\n",
        "\n",
        "  \n",
        "testx1 = 1\n",
        "operacion_not(testx1)"
      ],
      "execution_count": 6,
      "outputs": [
        {
          "output_type": "execute_result",
          "data": {
            "text/plain": [
              "0"
            ]
          },
          "metadata": {},
          "execution_count": 6
        }
      ]
    },
    {
      "cell_type": "code",
      "metadata": {
        "id": "zWn-N5uMO9JR",
        "colab": {
          "base_uri": "https://localhost:8080/"
        },
        "outputId": "3538f2e1-a590-4df2-b8cc-6c4cf6992f30"
      },
      "source": [
        "def operacion_xor(x1,x2):\n",
        "  temp1 = operacion_and(x1,x2)\n",
        "  temp2 = operacion_or(x1,x2)\n",
        " \n",
        "  nand_temp = operacion_not(temp1)\n",
        " \n",
        "  temp_3 = operacion_and(nand_temp,temp2)\n",
        " \n",
        "  return temp_3\n",
        " \n",
        "testx1 = 1\n",
        "testx2 = 1\n",
        " \n",
        "operacion_xor(testx1,testx2)"
      ],
      "execution_count": 5,
      "outputs": [
        {
          "output_type": "execute_result",
          "data": {
            "text/plain": [
              "0"
            ]
          },
          "metadata": {},
          "execution_count": 5
        }
      ]
    },
    {
      "cell_type": "code",
      "metadata": {
        "id": "T_H-LmMiQdxP"
      },
      "source": [
        ""
      ],
      "execution_count": null,
      "outputs": []
    }
  ]
}