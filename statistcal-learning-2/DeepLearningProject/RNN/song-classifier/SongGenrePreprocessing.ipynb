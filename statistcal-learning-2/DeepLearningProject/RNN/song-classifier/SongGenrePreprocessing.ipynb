{
 "cells": [
  {
   "cell_type": "code",
   "execution_count": 2,
   "id": "13d756e2",
   "metadata": {},
   "outputs": [],
   "source": [
    "import re\n",
    "import os\n",
    "import numpy as np\n",
    "import pandas as pd\n",
    "import csv\n",
    "from datetime import datetime\n",
    "import matplotlib.pyplot as plt\n",
    "from sklearn import metrics\n",
    "from sklearn.model_selection import train_test_split\n",
    "import tensorflow as tf\n",
    "from keras.models import load_model, Sequential, Model\n",
    "from keras.layers import Dense, Dropout, Softmax, BatchNormalization, Embedding, LSTM, SimpleRNN\n",
    "from keras.initializers import GlorotNormal, GlorotUniform\n",
    "from keras.callbacks import EarlyStopping, TensorBoard, ModelCheckpoint\n",
    "from keras.preprocessing.text import Tokenizer\n",
    "from keras.preprocessing.sequence import pad_sequences\n",
    "from sklearn.preprocessing import OneHotEncoder"
   ]
  },
  {
   "cell_type": "code",
   "execution_count": 92,
   "id": "adc0ea06-fec6-407e-b18b-97d0d9aede28",
   "metadata": {},
   "outputs": [
    {
     "name": "stdout",
     "output_type": "stream",
     "text": [
      "^C\n"
     ]
    }
   ],
   "source": [
    "import spacy\n",
    "# !python -m spacy download en_core_web_lg\n",
    "# Load English tokenizer, tagger, parser and NER\n",
    "nlp = spacy.load(\"en_core_web_lg\")"
   ]
  },
  {
   "cell_type": "code",
   "execution_count": 93,
   "id": "2f13e776-0af6-497a-b2a6-d82b923fd04c",
   "metadata": {},
   "outputs": [
    {
     "data": {
      "text/plain": [
       "'2.5.0'"
      ]
     },
     "execution_count": 93,
     "metadata": {},
     "output_type": "execute_result"
    }
   ],
   "source": [
    "import tensorflow as tf\n",
    "tf.__version__"
   ]
  },
  {
   "cell_type": "code",
   "execution_count": 94,
   "id": "ba56f5b8",
   "metadata": {},
   "outputs": [
    {
     "name": "stdout",
     "output_type": "stream",
     "text": [
      "Num GPUs: 1\n"
     ]
    }
   ],
   "source": [
    "physical_devices = tf.config.list_physical_devices('GPU')\n",
    "print(\"Num GPUs:\", len(physical_devices))"
   ]
  },
  {
   "cell_type": "code",
   "execution_count": 95,
   "id": "98de25ff-e47b-4288-a7e1-a8c6f083b8b3",
   "metadata": {},
   "outputs": [],
   "source": [
    "PATH_TO_SAVE = \"./data/lyrics_processed2.csv\""
   ]
  },
  {
   "cell_type": "markdown",
   "id": "002dd638",
   "metadata": {
    "tags": []
   },
   "source": [
    "## Song Classifier\n",
    "\n",
    "### RNN (LSTM)\n",
    "\n",
    "Dataset: https://www.kaggle.com/neisse/scrapped-lyrics-from-6-genres"
   ]
  },
  {
   "cell_type": "markdown",
   "id": "0b097862",
   "metadata": {},
   "source": [
    "#### Import Data\n"
   ]
  },
  {
   "cell_type": "code",
   "execution_count": 96,
   "id": "f5829895-0120-43d0-9b2c-f8ffc71786a5",
   "metadata": {},
   "outputs": [],
   "source": [
    "base_dir = './data'\n",
    "artists_df = pd.read_csv(f'{base_dir}/artists-data.csv')\n",
    "lyrics_df = pd.read_csv(f'{base_dir}/lyrics-data.csv')"
   ]
  },
  {
   "cell_type": "code",
   "execution_count": 97,
   "id": "aadf9bb8-9c79-4da2-8dca-2f518d7d95f5",
   "metadata": {},
   "outputs": [
    {
     "data": {
      "text/html": [
       "<div>\n",
       "<style scoped>\n",
       "    .dataframe tbody tr th:only-of-type {\n",
       "        vertical-align: middle;\n",
       "    }\n",
       "\n",
       "    .dataframe tbody tr th {\n",
       "        vertical-align: top;\n",
       "    }\n",
       "\n",
       "    .dataframe thead th {\n",
       "        text-align: right;\n",
       "    }\n",
       "</style>\n",
       "<table border=\"1\" class=\"dataframe\">\n",
       "  <thead>\n",
       "    <tr style=\"text-align: right;\">\n",
       "      <th></th>\n",
       "      <th>Artist</th>\n",
       "      <th>Songs</th>\n",
       "      <th>Popularity</th>\n",
       "      <th>Link</th>\n",
       "      <th>Genre</th>\n",
       "      <th>Genres</th>\n",
       "    </tr>\n",
       "  </thead>\n",
       "  <tbody>\n",
       "    <tr>\n",
       "      <th>0</th>\n",
       "      <td>10000 Maniacs</td>\n",
       "      <td>110</td>\n",
       "      <td>0.3</td>\n",
       "      <td>/10000-maniacs/</td>\n",
       "      <td>Rock</td>\n",
       "      <td>Rock; Pop; Electronica; Dance; J-Pop/J-Rock; G...</td>\n",
       "    </tr>\n",
       "    <tr>\n",
       "      <th>1</th>\n",
       "      <td>12 Stones</td>\n",
       "      <td>75</td>\n",
       "      <td>0.3</td>\n",
       "      <td>/12-stones/</td>\n",
       "      <td>Rock</td>\n",
       "      <td>Rock; Gospel/Religioso; Hard Rock; Grunge; Roc...</td>\n",
       "    </tr>\n",
       "    <tr>\n",
       "      <th>2</th>\n",
       "      <td>311</td>\n",
       "      <td>196</td>\n",
       "      <td>0.5</td>\n",
       "      <td>/311/</td>\n",
       "      <td>Rock</td>\n",
       "      <td>Rock; Surf Music; Reggae; Ska; Pop/Rock; Rock ...</td>\n",
       "    </tr>\n",
       "    <tr>\n",
       "      <th>3</th>\n",
       "      <td>4 Non Blondes</td>\n",
       "      <td>15</td>\n",
       "      <td>7.5</td>\n",
       "      <td>/4-non-blondes/</td>\n",
       "      <td>Rock</td>\n",
       "      <td>Rock; Pop/Rock; Rock Alternativo; Grunge; Blue...</td>\n",
       "    </tr>\n",
       "    <tr>\n",
       "      <th>4</th>\n",
       "      <td>A Cruz Está Vazia</td>\n",
       "      <td>13</td>\n",
       "      <td>0.0</td>\n",
       "      <td>/a-cruz-esta-vazia/</td>\n",
       "      <td>Rock</td>\n",
       "      <td>Rock</td>\n",
       "    </tr>\n",
       "  </tbody>\n",
       "</table>\n",
       "</div>"
      ],
      "text/plain": [
       "              Artist  Songs  Popularity                 Link Genre  \\\n",
       "0      10000 Maniacs    110         0.3      /10000-maniacs/  Rock   \n",
       "1          12 Stones     75         0.3          /12-stones/  Rock   \n",
       "2                311    196         0.5                /311/  Rock   \n",
       "3      4 Non Blondes     15         7.5      /4-non-blondes/  Rock   \n",
       "4  A Cruz Está Vazia     13         0.0  /a-cruz-esta-vazia/  Rock   \n",
       "\n",
       "                                              Genres  \n",
       "0  Rock; Pop; Electronica; Dance; J-Pop/J-Rock; G...  \n",
       "1  Rock; Gospel/Religioso; Hard Rock; Grunge; Roc...  \n",
       "2  Rock; Surf Music; Reggae; Ska; Pop/Rock; Rock ...  \n",
       "3  Rock; Pop/Rock; Rock Alternativo; Grunge; Blue...  \n",
       "4                                               Rock  "
      ]
     },
     "execution_count": 97,
     "metadata": {},
     "output_type": "execute_result"
    }
   ],
   "source": [
    "artists_df.head()"
   ]
  },
  {
   "cell_type": "code",
   "execution_count": 98,
   "id": "d0273daa-930f-411e-a24b-1af7bab6bd4f",
   "metadata": {},
   "outputs": [
    {
     "data": {
      "text/html": [
       "<div>\n",
       "<style scoped>\n",
       "    .dataframe tbody tr th:only-of-type {\n",
       "        vertical-align: middle;\n",
       "    }\n",
       "\n",
       "    .dataframe tbody tr th {\n",
       "        vertical-align: top;\n",
       "    }\n",
       "\n",
       "    .dataframe thead th {\n",
       "        text-align: right;\n",
       "    }\n",
       "</style>\n",
       "<table border=\"1\" class=\"dataframe\">\n",
       "  <thead>\n",
       "    <tr style=\"text-align: right;\">\n",
       "      <th></th>\n",
       "      <th>ALink</th>\n",
       "      <th>SName</th>\n",
       "      <th>SLink</th>\n",
       "      <th>Lyric</th>\n",
       "      <th>Idiom</th>\n",
       "    </tr>\n",
       "  </thead>\n",
       "  <tbody>\n",
       "    <tr>\n",
       "      <th>0</th>\n",
       "      <td>/10000-maniacs/</td>\n",
       "      <td>More Than This</td>\n",
       "      <td>/10000-maniacs/more-than-this.html</td>\n",
       "      <td>I could feel at the time. There was no way of ...</td>\n",
       "      <td>ENGLISH</td>\n",
       "    </tr>\n",
       "    <tr>\n",
       "      <th>1</th>\n",
       "      <td>/10000-maniacs/</td>\n",
       "      <td>Because The Night</td>\n",
       "      <td>/10000-maniacs/because-the-night.html</td>\n",
       "      <td>Take me now, baby, here as I am. Hold me close...</td>\n",
       "      <td>ENGLISH</td>\n",
       "    </tr>\n",
       "    <tr>\n",
       "      <th>2</th>\n",
       "      <td>/10000-maniacs/</td>\n",
       "      <td>These Are Days</td>\n",
       "      <td>/10000-maniacs/these-are-days.html</td>\n",
       "      <td>These are. These are days you'll remember. Nev...</td>\n",
       "      <td>ENGLISH</td>\n",
       "    </tr>\n",
       "    <tr>\n",
       "      <th>3</th>\n",
       "      <td>/10000-maniacs/</td>\n",
       "      <td>A Campfire Song</td>\n",
       "      <td>/10000-maniacs/a-campfire-song.html</td>\n",
       "      <td>A lie to say, \"O my mountain has coal veins an...</td>\n",
       "      <td>ENGLISH</td>\n",
       "    </tr>\n",
       "    <tr>\n",
       "      <th>4</th>\n",
       "      <td>/10000-maniacs/</td>\n",
       "      <td>Everyday Is Like Sunday</td>\n",
       "      <td>/10000-maniacs/everyday-is-like-sunday.html</td>\n",
       "      <td>Trudging slowly over wet sand. Back to the ben...</td>\n",
       "      <td>ENGLISH</td>\n",
       "    </tr>\n",
       "  </tbody>\n",
       "</table>\n",
       "</div>"
      ],
      "text/plain": [
       "             ALink                    SName  \\\n",
       "0  /10000-maniacs/           More Than This   \n",
       "1  /10000-maniacs/        Because The Night   \n",
       "2  /10000-maniacs/           These Are Days   \n",
       "3  /10000-maniacs/          A Campfire Song   \n",
       "4  /10000-maniacs/  Everyday Is Like Sunday   \n",
       "\n",
       "                                         SLink  \\\n",
       "0           /10000-maniacs/more-than-this.html   \n",
       "1        /10000-maniacs/because-the-night.html   \n",
       "2           /10000-maniacs/these-are-days.html   \n",
       "3          /10000-maniacs/a-campfire-song.html   \n",
       "4  /10000-maniacs/everyday-is-like-sunday.html   \n",
       "\n",
       "                                               Lyric    Idiom  \n",
       "0  I could feel at the time. There was no way of ...  ENGLISH  \n",
       "1  Take me now, baby, here as I am. Hold me close...  ENGLISH  \n",
       "2  These are. These are days you'll remember. Nev...  ENGLISH  \n",
       "3  A lie to say, \"O my mountain has coal veins an...  ENGLISH  \n",
       "4  Trudging slowly over wet sand. Back to the ben...  ENGLISH  "
      ]
     },
     "execution_count": 98,
     "metadata": {},
     "output_type": "execute_result"
    }
   ],
   "source": [
    "lyrics_df.head()"
   ]
  },
  {
   "cell_type": "markdown",
   "id": "a48727b6-cd26-4187-8781-148d75503d3d",
   "metadata": {},
   "source": [
    "#### Preprocessing Data"
   ]
  },
  {
   "cell_type": "code",
   "execution_count": 99,
   "id": "660049b6-97d3-44b2-8a40-6b55ea5672e1",
   "metadata": {},
   "outputs": [],
   "source": [
    "lyrics_eng_df = lyrics_df[lyrics_df[\"Idiom\"] == \"ENGLISH\"]\n",
    "artists_df = artists_df[[\"Artist\", \"Link\", \"Genre\"]]"
   ]
  },
  {
   "cell_type": "code",
   "execution_count": 100,
   "id": "4e098693-31aa-4cae-b04c-33dce305abf4",
   "metadata": {},
   "outputs": [
    {
     "name": "stdout",
     "output_type": "stream",
     "text": [
      "(3242, 3)\n"
     ]
    },
    {
     "data": {
      "text/plain": [
       "False    3242\n",
       "dtype: int64"
      ]
     },
     "execution_count": 100,
     "metadata": {},
     "output_type": "execute_result"
    }
   ],
   "source": [
    "### Pull unique artists\n",
    "print(artists_df.shape)\n",
    "artists_df.duplicated().value_counts()"
   ]
  },
  {
   "cell_type": "code",
   "execution_count": 101,
   "id": "b41a6714-2972-433f-8ed5-1a35924000e8",
   "metadata": {},
   "outputs": [
    {
     "data": {
      "text/plain": [
       "Rock            797\n",
       "Pop             796\n",
       "Sertanejo       617\n",
       "Hip Hop         537\n",
       "Funk Carioca    302\n",
       "Samba           193\n",
       "Name: Genre, dtype: int64"
      ]
     },
     "execution_count": 101,
     "metadata": {},
     "output_type": "execute_result"
    }
   ],
   "source": [
    "artists_df[\"Genre\"].value_counts()"
   ]
  },
  {
   "cell_type": "code",
   "execution_count": 102,
   "id": "ca12cee6-86c9-430a-884f-92c555a1b89f",
   "metadata": {},
   "outputs": [
    {
     "data": {
      "text/html": [
       "<div>\n",
       "<style scoped>\n",
       "    .dataframe tbody tr th:only-of-type {\n",
       "        vertical-align: middle;\n",
       "    }\n",
       "\n",
       "    .dataframe tbody tr th {\n",
       "        vertical-align: top;\n",
       "    }\n",
       "\n",
       "    .dataframe thead th {\n",
       "        text-align: right;\n",
       "    }\n",
       "</style>\n",
       "<table border=\"1\" class=\"dataframe\">\n",
       "  <thead>\n",
       "    <tr style=\"text-align: right;\">\n",
       "      <th></th>\n",
       "      <th>Artist</th>\n",
       "      <th>Link</th>\n",
       "      <th>Genre</th>\n",
       "    </tr>\n",
       "  </thead>\n",
       "  <tbody>\n",
       "    <tr>\n",
       "      <th>412</th>\n",
       "      <td>3zi</td>\n",
       "      <td>/3zi/</td>\n",
       "      <td>Funk Carioca</td>\n",
       "    </tr>\n",
       "    <tr>\n",
       "      <th>580</th>\n",
       "      <td>Mc God</td>\n",
       "      <td>/mc-god/</td>\n",
       "      <td>Funk Carioca</td>\n",
       "    </tr>\n",
       "    <tr>\n",
       "      <th>581</th>\n",
       "      <td>MC Guga da VG</td>\n",
       "      <td>/mc-guga-da-vg/</td>\n",
       "      <td>Funk Carioca</td>\n",
       "    </tr>\n",
       "    <tr>\n",
       "      <th>582</th>\n",
       "      <td>Mc Leoest</td>\n",
       "      <td>/mc-leoest/</td>\n",
       "      <td>Funk Carioca</td>\n",
       "    </tr>\n",
       "    <tr>\n",
       "      <th>583</th>\n",
       "      <td>Mc Patrick MF</td>\n",
       "      <td>/mc-patrick-mf/</td>\n",
       "      <td>Funk Carioca</td>\n",
       "    </tr>\n",
       "    <tr>\n",
       "      <th>...</th>\n",
       "      <td>...</td>\n",
       "      <td>...</td>\n",
       "      <td>...</td>\n",
       "    </tr>\n",
       "    <tr>\n",
       "      <th>3173</th>\n",
       "      <td>Jeann &amp; Julio</td>\n",
       "      <td>/jeann-julio/</td>\n",
       "      <td>Funk Carioca</td>\n",
       "    </tr>\n",
       "    <tr>\n",
       "      <th>3183</th>\n",
       "      <td>Luiz Henrique &amp; Fernando</td>\n",
       "      <td>/luiz-henrique-e-fernando/</td>\n",
       "      <td>Funk Carioca</td>\n",
       "    </tr>\n",
       "    <tr>\n",
       "      <th>3184</th>\n",
       "      <td>Marcos e Fernando</td>\n",
       "      <td>/marcos-e-fernando/</td>\n",
       "      <td>Funk Carioca</td>\n",
       "    </tr>\n",
       "    <tr>\n",
       "      <th>3188</th>\n",
       "      <td>Pedro Henrique e Fernando</td>\n",
       "      <td>/pedro-henrique-e-fernando/</td>\n",
       "      <td>Funk Carioca</td>\n",
       "    </tr>\n",
       "    <tr>\n",
       "      <th>3226</th>\n",
       "      <td>Roberto Amaro Bento</td>\n",
       "      <td>/roberto-amaro-bento/</td>\n",
       "      <td>Funk Carioca</td>\n",
       "    </tr>\n",
       "  </tbody>\n",
       "</table>\n",
       "<p>302 rows × 3 columns</p>\n",
       "</div>"
      ],
      "text/plain": [
       "                         Artist                         Link         Genre\n",
       "412                         3zi                        /3zi/  Funk Carioca\n",
       "580                      Mc God                     /mc-god/  Funk Carioca\n",
       "581               MC Guga da VG              /mc-guga-da-vg/  Funk Carioca\n",
       "582                   Mc Leoest                  /mc-leoest/  Funk Carioca\n",
       "583               Mc Patrick MF              /mc-patrick-mf/  Funk Carioca\n",
       "...                         ...                          ...           ...\n",
       "3173              Jeann & Julio                /jeann-julio/  Funk Carioca\n",
       "3183   Luiz Henrique & Fernando   /luiz-henrique-e-fernando/  Funk Carioca\n",
       "3184          Marcos e Fernando          /marcos-e-fernando/  Funk Carioca\n",
       "3188  Pedro Henrique e Fernando  /pedro-henrique-e-fernando/  Funk Carioca\n",
       "3226        Roberto Amaro Bento        /roberto-amaro-bento/  Funk Carioca\n",
       "\n",
       "[302 rows x 3 columns]"
      ]
     },
     "execution_count": 102,
     "metadata": {},
     "output_type": "execute_result"
    }
   ],
   "source": [
    "artists_df[artists_df[\"Genre\"] == \"Funk Carioca\"] #this gnre would be probably supress in the join"
   ]
  },
  {
   "cell_type": "code",
   "execution_count": 103,
   "id": "d74fd56e-feae-4106-9843-ddbcc03433fa",
   "metadata": {},
   "outputs": [
    {
     "data": {
      "text/html": [
       "<div>\n",
       "<style scoped>\n",
       "    .dataframe tbody tr th:only-of-type {\n",
       "        vertical-align: middle;\n",
       "    }\n",
       "\n",
       "    .dataframe tbody tr th {\n",
       "        vertical-align: top;\n",
       "    }\n",
       "\n",
       "    .dataframe thead th {\n",
       "        text-align: right;\n",
       "    }\n",
       "</style>\n",
       "<table border=\"1\" class=\"dataframe\">\n",
       "  <thead>\n",
       "    <tr style=\"text-align: right;\">\n",
       "      <th></th>\n",
       "      <th>ALink</th>\n",
       "      <th>SName</th>\n",
       "      <th>SLink</th>\n",
       "      <th>Lyric</th>\n",
       "      <th>Idiom</th>\n",
       "    </tr>\n",
       "  </thead>\n",
       "  <tbody>\n",
       "    <tr>\n",
       "      <th>0</th>\n",
       "      <td>/10000-maniacs/</td>\n",
       "      <td>More Than This</td>\n",
       "      <td>/10000-maniacs/more-than-this.html</td>\n",
       "      <td>I could feel at the time. There was no way of ...</td>\n",
       "      <td>ENGLISH</td>\n",
       "    </tr>\n",
       "    <tr>\n",
       "      <th>1</th>\n",
       "      <td>/10000-maniacs/</td>\n",
       "      <td>Because The Night</td>\n",
       "      <td>/10000-maniacs/because-the-night.html</td>\n",
       "      <td>Take me now, baby, here as I am. Hold me close...</td>\n",
       "      <td>ENGLISH</td>\n",
       "    </tr>\n",
       "    <tr>\n",
       "      <th>2</th>\n",
       "      <td>/10000-maniacs/</td>\n",
       "      <td>These Are Days</td>\n",
       "      <td>/10000-maniacs/these-are-days.html</td>\n",
       "      <td>These are. These are days you'll remember. Nev...</td>\n",
       "      <td>ENGLISH</td>\n",
       "    </tr>\n",
       "    <tr>\n",
       "      <th>3</th>\n",
       "      <td>/10000-maniacs/</td>\n",
       "      <td>A Campfire Song</td>\n",
       "      <td>/10000-maniacs/a-campfire-song.html</td>\n",
       "      <td>A lie to say, \"O my mountain has coal veins an...</td>\n",
       "      <td>ENGLISH</td>\n",
       "    </tr>\n",
       "    <tr>\n",
       "      <th>4</th>\n",
       "      <td>/10000-maniacs/</td>\n",
       "      <td>Everyday Is Like Sunday</td>\n",
       "      <td>/10000-maniacs/everyday-is-like-sunday.html</td>\n",
       "      <td>Trudging slowly over wet sand. Back to the ben...</td>\n",
       "      <td>ENGLISH</td>\n",
       "    </tr>\n",
       "  </tbody>\n",
       "</table>\n",
       "</div>"
      ],
      "text/plain": [
       "             ALink                    SName  \\\n",
       "0  /10000-maniacs/           More Than This   \n",
       "1  /10000-maniacs/        Because The Night   \n",
       "2  /10000-maniacs/           These Are Days   \n",
       "3  /10000-maniacs/          A Campfire Song   \n",
       "4  /10000-maniacs/  Everyday Is Like Sunday   \n",
       "\n",
       "                                         SLink  \\\n",
       "0           /10000-maniacs/more-than-this.html   \n",
       "1        /10000-maniacs/because-the-night.html   \n",
       "2           /10000-maniacs/these-are-days.html   \n",
       "3          /10000-maniacs/a-campfire-song.html   \n",
       "4  /10000-maniacs/everyday-is-like-sunday.html   \n",
       "\n",
       "                                               Lyric    Idiom  \n",
       "0  I could feel at the time. There was no way of ...  ENGLISH  \n",
       "1  Take me now, baby, here as I am. Hold me close...  ENGLISH  \n",
       "2  These are. These are days you'll remember. Nev...  ENGLISH  \n",
       "3  A lie to say, \"O my mountain has coal veins an...  ENGLISH  \n",
       "4  Trudging slowly over wet sand. Back to the ben...  ENGLISH  "
      ]
     },
     "execution_count": 103,
     "metadata": {},
     "output_type": "execute_result"
    }
   ],
   "source": [
    "lyrics_eng_df.head()\n"
   ]
  },
  {
   "cell_type": "code",
   "execution_count": 104,
   "id": "278f68a4-54d1-447e-9881-9a2415a24e4e",
   "metadata": {},
   "outputs": [
    {
     "data": {
      "text/plain": [
       "False    91622\n",
       "True     23101\n",
       "dtype: int64"
      ]
     },
     "execution_count": 104,
     "metadata": {},
     "output_type": "execute_result"
    }
   ],
   "source": [
    "lyrics_eng_df.duplicated().value_counts()\n"
   ]
  },
  {
   "cell_type": "code",
   "execution_count": 105,
   "id": "7073d5a4-358d-43b1-ac2e-39cf4c962e98",
   "metadata": {},
   "outputs": [
    {
     "name": "stderr",
     "output_type": "stream",
     "text": [
      "C:\\Users\\mazg9\\AppData\\Roaming\\Python\\Python36\\site-packages\\ipykernel_launcher.py:1: SettingWithCopyWarning: \n",
      "A value is trying to be set on a copy of a slice from a DataFrame\n",
      "\n",
      "See the caveats in the documentation: https://pandas.pydata.org/pandas-docs/stable/user_guide/indexing.html#returning-a-view-versus-a-copy\n",
      "  \"\"\"Entry point for launching an IPython kernel.\n"
     ]
    },
    {
     "data": {
      "text/plain": [
       "False    91611\n",
       "dtype: int64"
      ]
     },
     "execution_count": 105,
     "metadata": {},
     "output_type": "execute_result"
    }
   ],
   "source": [
    "lyrics_eng_df.drop_duplicates(subset='SLink', inplace=True, keep='first', ignore_index=False)\n",
    "lyrics_eng_df.duplicated().value_counts()"
   ]
  },
  {
   "cell_type": "code",
   "execution_count": 106,
   "id": "532338d6-0b6f-4e29-8248-01b9f6e1884c",
   "metadata": {},
   "outputs": [
    {
     "data": {
      "text/html": [
       "<div>\n",
       "<style scoped>\n",
       "    .dataframe tbody tr th:only-of-type {\n",
       "        vertical-align: middle;\n",
       "    }\n",
       "\n",
       "    .dataframe tbody tr th {\n",
       "        vertical-align: top;\n",
       "    }\n",
       "\n",
       "    .dataframe thead th {\n",
       "        text-align: right;\n",
       "    }\n",
       "</style>\n",
       "<table border=\"1\" class=\"dataframe\">\n",
       "  <thead>\n",
       "    <tr style=\"text-align: right;\">\n",
       "      <th></th>\n",
       "      <th>ALink</th>\n",
       "      <th>Lyric</th>\n",
       "    </tr>\n",
       "  </thead>\n",
       "  <tbody>\n",
       "    <tr>\n",
       "      <th>0</th>\n",
       "      <td>/10000-maniacs/</td>\n",
       "      <td>I could feel at the time. There was no way of ...</td>\n",
       "    </tr>\n",
       "    <tr>\n",
       "      <th>1</th>\n",
       "      <td>/10000-maniacs/</td>\n",
       "      <td>Take me now, baby, here as I am. Hold me close...</td>\n",
       "    </tr>\n",
       "    <tr>\n",
       "      <th>2</th>\n",
       "      <td>/10000-maniacs/</td>\n",
       "      <td>These are. These are days you'll remember. Nev...</td>\n",
       "    </tr>\n",
       "    <tr>\n",
       "      <th>3</th>\n",
       "      <td>/10000-maniacs/</td>\n",
       "      <td>A lie to say, \"O my mountain has coal veins an...</td>\n",
       "    </tr>\n",
       "    <tr>\n",
       "      <th>4</th>\n",
       "      <td>/10000-maniacs/</td>\n",
       "      <td>Trudging slowly over wet sand. Back to the ben...</td>\n",
       "    </tr>\n",
       "    <tr>\n",
       "      <th>...</th>\n",
       "      <td>...</td>\n",
       "      <td>...</td>\n",
       "    </tr>\n",
       "    <tr>\n",
       "      <th>207611</th>\n",
       "      <td>/sambo/</td>\n",
       "      <td>(Chorus). Hello, hello,hello,how low. Hello,he...</td>\n",
       "    </tr>\n",
       "    <tr>\n",
       "      <th>207624</th>\n",
       "      <td>/sambo/</td>\n",
       "      <td>Well sometimes I go out by myself. And I look ...</td>\n",
       "    </tr>\n",
       "    <tr>\n",
       "      <th>207628</th>\n",
       "      <td>/sambo/</td>\n",
       "      <td>Feeling my way through the darkness. Guided by...</td>\n",
       "    </tr>\n",
       "    <tr>\n",
       "      <th>207792</th>\n",
       "      <td>/seu-jorge/</td>\n",
       "      <td>Don't, don't, that's what you say. Each time t...</td>\n",
       "    </tr>\n",
       "    <tr>\n",
       "      <th>209285</th>\n",
       "      <td>/zeca-pagodinho/</td>\n",
       "      <td>I've been. For almost everything in life. In t...</td>\n",
       "    </tr>\n",
       "  </tbody>\n",
       "</table>\n",
       "<p>91611 rows × 2 columns</p>\n",
       "</div>"
      ],
      "text/plain": [
       "                   ALink                                              Lyric\n",
       "0        /10000-maniacs/  I could feel at the time. There was no way of ...\n",
       "1        /10000-maniacs/  Take me now, baby, here as I am. Hold me close...\n",
       "2        /10000-maniacs/  These are. These are days you'll remember. Nev...\n",
       "3        /10000-maniacs/  A lie to say, \"O my mountain has coal veins an...\n",
       "4        /10000-maniacs/  Trudging slowly over wet sand. Back to the ben...\n",
       "...                  ...                                                ...\n",
       "207611           /sambo/  (Chorus). Hello, hello,hello,how low. Hello,he...\n",
       "207624           /sambo/  Well sometimes I go out by myself. And I look ...\n",
       "207628           /sambo/  Feeling my way through the darkness. Guided by...\n",
       "207792       /seu-jorge/  Don't, don't, that's what you say. Each time t...\n",
       "209285  /zeca-pagodinho/  I've been. For almost everything in life. In t...\n",
       "\n",
       "[91611 rows x 2 columns]"
      ]
     },
     "execution_count": 106,
     "metadata": {},
     "output_type": "execute_result"
    }
   ],
   "source": [
    "lyrics_df_cln = lyrics_eng_df.drop(['SName', 'SLink', 'Idiom'], axis=1)\n",
    "lyrics_df_cln"
   ]
  },
  {
   "cell_type": "code",
   "execution_count": 107,
   "id": "3ebaacfe-f06b-401e-86ff-05904860e54e",
   "metadata": {},
   "outputs": [
    {
     "data": {
      "text/plain": [
       "False    91392\n",
       "True       219\n",
       "dtype: int64"
      ]
     },
     "execution_count": 107,
     "metadata": {},
     "output_type": "execute_result"
    }
   ],
   "source": [
    "lyrics_df_cln.duplicated().value_counts() #there is 219 duplicated songs"
   ]
  },
  {
   "cell_type": "code",
   "execution_count": 108,
   "id": "6d40339d-d137-4e7f-8bf1-adb0ce7e8bb6",
   "metadata": {},
   "outputs": [
    {
     "data": {
      "text/plain": [
       "False    91392\n",
       "dtype: int64"
      ]
     },
     "execution_count": 108,
     "metadata": {},
     "output_type": "execute_result"
    }
   ],
   "source": [
    "lyrics_df_cln.drop_duplicates(inplace=True)\n",
    "\n",
    "lyrics_df_cln.duplicated().value_counts() #there is 219 duplicated songs"
   ]
  },
  {
   "cell_type": "code",
   "execution_count": 109,
   "id": "d86b68f6-3224-401a-b92a-34c6e2f54787",
   "metadata": {},
   "outputs": [
    {
     "data": {
      "text/plain": [
       "Rock            50048\n",
       "Pop             28355\n",
       "Hip Hop         16115\n",
       "Funk Carioca       69\n",
       "Sertanejo          58\n",
       "Samba              42\n",
       "Name: Genre, dtype: int64"
      ]
     },
     "execution_count": 109,
     "metadata": {},
     "output_type": "execute_result"
    }
   ],
   "source": [
    "### Join Data Frames\n",
    "\n",
    "X = pd.merge(lyrics_df_cln, artists_df, how='inner', left_on='ALink', right_on='Link')\n",
    "X = X.drop([\"ALink\", \"Link\"], axis=1)\n",
    "X.Genre.value_counts()"
   ]
  },
  {
   "cell_type": "code",
   "execution_count": 110,
   "id": "66db8875-d947-41f0-ab34-81dfe59adfb4",
   "metadata": {},
   "outputs": [
    {
     "data": {
      "text/plain": [
       "Rock       50048\n",
       "Pop        28355\n",
       "Hip Hop    16115\n",
       "Name: Genre, dtype: int64"
      ]
     },
     "execution_count": 110,
     "metadata": {},
     "output_type": "execute_result"
    }
   ],
   "source": [
    "### Drop imbalanced genres\n",
    "\n",
    "X = X[~X[\"Genre\"].isin([\"Funk Carioca\", \"Sertanejo\", \"Samba\"])]\n",
    "X.Genre.value_counts()"
   ]
  },
  {
   "cell_type": "code",
   "execution_count": 111,
   "id": "684575ed-8890-4694-b14f-c90f9038ba8b",
   "metadata": {},
   "outputs": [
    {
     "data": {
      "text/plain": [
       "154874"
      ]
     },
     "execution_count": 111,
     "metadata": {},
     "output_type": "execute_result"
    }
   ],
   "source": [
    "def get_num_unique_words(s):\n",
    "    corpus = s.str.cat(sep=\" \")\n",
    "    corpus = re.sub(r'[^a-zA-Z0-9\\s{1}áéíóúüñÁÉÍÓÚ]', '', corpus).lower().strip().rstrip('\\r\\n').rstrip('\\n')\n",
    "    unique_words = set(corpus.split(\" \"))\n",
    "    return len(unique_words)\n",
    "get_num_unique_words(X[\"Lyric\"])"
   ]
  },
  {
   "cell_type": "code",
   "execution_count": 112,
   "id": "2e4575bb-4ecc-4dfb-bbe2-2ebcb35e7cf7",
   "metadata": {},
   "outputs": [
    {
     "data": {
      "text/plain": [
       "42021        9\n",
       "76345        9\n",
       "33200       15\n",
       "24529       16\n",
       "84174       17\n",
       "         ...  \n",
       "26685    19578\n",
       "5100     32971\n",
       "26400    33998\n",
       "22909    41494\n",
       "2997     64047\n",
       "Name: Lyric, Length: 94518, dtype: int64"
      ]
     },
     "execution_count": 112,
     "metadata": {},
     "output_type": "execute_result"
    }
   ],
   "source": [
    "X[\"Lyric\"].str.len().sort_values()"
   ]
  },
  {
   "cell_type": "code",
   "execution_count": 113,
   "id": "66cf674f-b5c5-4a77-b9f9-e57250492d7a",
   "metadata": {},
   "outputs": [
    {
     "data": {
      "text/plain": [
       "\"(I trusted you..). Wake up. I've been... watching you..\""
      ]
     },
     "execution_count": 113,
     "metadata": {},
     "output_type": "execute_result"
    }
   ],
   "source": [
    "X[X[\"Lyric\"].str.len() < 100].iloc[0][\"Lyric\"]"
   ]
  },
  {
   "cell_type": "code",
   "execution_count": null,
   "id": "a7e2ddbe-6632-4d64-836f-7842666a090d",
   "metadata": {},
   "outputs": [
    {
     "name": "stderr",
     "output_type": "stream",
     "text": [
      "2021-09-24 15:42:05.507427: I tensorflow/stream_executor/platform/default/dso_loader.cc:53] Successfully opened dynamic library cudart64_110.dll\n"
     ]
    },
    {
     "name": "stdout",
     "output_type": "stream",
     "text": [
      "Collecting en-core-web-lg==3.1.0\n",
      "  Downloading https://github.com/explosion/spacy-models/releases/download/en_core_web_lg-3.1.0/en_core_web_lg-3.1.0-py3-none-any.whl (777.1 MB)\n",
      "Requirement already satisfied: spacy<3.2.0,>=3.1.0 in c:\\users\\mazg9\\anaconda3\\envs\\last2\\lib\\site-packages (from en-core-web-lg==3.1.0) (3.1.3)\n",
      "Requirement already satisfied: pathy>=0.3.5 in c:\\users\\mazg9\\anaconda3\\envs\\last2\\lib\\site-packages (from spacy<3.2.0,>=3.1.0->en-core-web-lg==3.1.0) (0.6.0)\n",
      "Requirement already satisfied: jinja2 in c:\\users\\mazg9\\appdata\\roaming\\python\\python36\\site-packages (from spacy<3.2.0,>=3.1.0->en-core-web-lg==3.1.0) (2.11.3)\n",
      "Requirement already satisfied: requests<3.0.0,>=2.13.0 in c:\\users\\mazg9\\anaconda3\\envs\\last2\\lib\\site-packages (from spacy<3.2.0,>=3.1.0->en-core-web-lg==3.1.0) (2.26.0)\n",
      "Requirement already satisfied: preshed<3.1.0,>=3.0.2 in c:\\users\\mazg9\\anaconda3\\envs\\last2\\lib\\site-packages (from spacy<3.2.0,>=3.1.0->en-core-web-lg==3.1.0) (3.0.5)\n",
      "Requirement already satisfied: srsly<3.0.0,>=2.4.1 in c:\\users\\mazg9\\anaconda3\\envs\\last2\\lib\\site-packages (from spacy<3.2.0,>=3.1.0->en-core-web-lg==3.1.0) (2.4.1)\n",
      "Requirement already satisfied: numpy>=1.15.0 in c:\\users\\mazg9\\anaconda3\\envs\\last2\\lib\\site-packages (from spacy<3.2.0,>=3.1.0->en-core-web-lg==3.1.0) (1.19.5)\n",
      "Requirement already satisfied: cymem<2.1.0,>=2.0.2 in c:\\users\\mazg9\\anaconda3\\envs\\last2\\lib\\site-packages (from spacy<3.2.0,>=3.1.0->en-core-web-lg==3.1.0) (2.0.5)\n",
      "Requirement already satisfied: setuptools in c:\\users\\mazg9\\anaconda3\\envs\\last2\\lib\\site-packages (from spacy<3.2.0,>=3.1.0->en-core-web-lg==3.1.0) (58.0.4)\n",
      "Requirement already satisfied: blis<0.8.0,>=0.4.0 in c:\\users\\mazg9\\anaconda3\\envs\\last2\\lib\\site-packages (from spacy<3.2.0,>=3.1.0->en-core-web-lg==3.1.0) (0.7.4)\n",
      "Requirement already satisfied: wasabi<1.1.0,>=0.8.1 in c:\\users\\mazg9\\anaconda3\\envs\\last2\\lib\\site-packages (from spacy<3.2.0,>=3.1.0->en-core-web-lg==3.1.0) (0.8.2)\n",
      "Requirement already satisfied: typing-extensions<4.0.0.0,>=3.7.4 in c:\\users\\mazg9\\appdata\\roaming\\python\\python36\\site-packages (from spacy<3.2.0,>=3.1.0->en-core-web-lg==3.1.0) (3.7.4.3)\n",
      "Requirement already satisfied: packaging>=20.0 in c:\\users\\mazg9\\appdata\\roaming\\python\\python36\\site-packages (from spacy<3.2.0,>=3.1.0->en-core-web-lg==3.1.0) (20.9)\n",
      "Requirement already satisfied: catalogue<2.1.0,>=2.0.6 in c:\\users\\mazg9\\anaconda3\\envs\\last2\\lib\\site-packages (from spacy<3.2.0,>=3.1.0->en-core-web-lg==3.1.0) (2.0.6)\n",
      "Requirement already satisfied: spacy-legacy<3.1.0,>=3.0.8 in c:\\users\\mazg9\\anaconda3\\envs\\last2\\lib\\site-packages (from spacy<3.2.0,>=3.1.0->en-core-web-lg==3.1.0) (3.0.8)\n",
      "Requirement already satisfied: typer<0.5.0,>=0.3.0 in c:\\users\\mazg9\\anaconda3\\envs\\last2\\lib\\site-packages (from spacy<3.2.0,>=3.1.0->en-core-web-lg==3.1.0) (0.4.0)\n",
      "Requirement already satisfied: tqdm<5.0.0,>=4.38.0 in c:\\users\\mazg9\\anaconda3\\envs\\last2\\lib\\site-packages (from spacy<3.2.0,>=3.1.0->en-core-web-lg==3.1.0) (4.62.3)\n",
      "Requirement already satisfied: pydantic!=1.8,!=1.8.1,<1.9.0,>=1.7.4 in c:\\users\\mazg9\\anaconda3\\envs\\last2\\lib\\site-packages (from spacy<3.2.0,>=3.1.0->en-core-web-lg==3.1.0) (1.8.2)\n",
      "Requirement already satisfied: thinc<8.1.0,>=8.0.9 in c:\\users\\mazg9\\anaconda3\\envs\\last2\\lib\\site-packages (from spacy<3.2.0,>=3.1.0->en-core-web-lg==3.1.0) (8.0.10)\n",
      "Requirement already satisfied: murmurhash<1.1.0,>=0.28.0 in c:\\users\\mazg9\\anaconda3\\envs\\last2\\lib\\site-packages (from spacy<3.2.0,>=3.1.0->en-core-web-lg==3.1.0) (1.0.5)\n",
      "Requirement already satisfied: zipp>=0.5 in c:\\users\\mazg9\\appdata\\roaming\\python\\python36\\site-packages (from catalogue<2.1.0,>=2.0.6->spacy<3.2.0,>=3.1.0->en-core-web-lg==3.1.0) (3.4.0)\n",
      "Requirement already satisfied: pyparsing>=2.0.2 in c:\\users\\mazg9\\appdata\\roaming\\python\\python36\\site-packages (from packaging>=20.0->spacy<3.2.0,>=3.1.0->en-core-web-lg==3.1.0) (2.4.7)\n",
      "Requirement already satisfied: dataclasses<1.0,>=0.6 in c:\\users\\mazg9\\anaconda3\\envs\\last2\\lib\\site-packages (from pathy>=0.3.5->spacy<3.2.0,>=3.1.0->en-core-web-lg==3.1.0) (0.8)\n",
      "Requirement already satisfied: smart-open<6.0.0,>=5.0.0 in c:\\users\\mazg9\\anaconda3\\envs\\last2\\lib\\site-packages (from pathy>=0.3.5->spacy<3.2.0,>=3.1.0->en-core-web-lg==3.1.0) (5.2.1)\n",
      "Requirement already satisfied: certifi>=2017.4.17 in c:\\users\\mazg9\\anaconda3\\envs\\last2\\lib\\site-packages (from requests<3.0.0,>=2.13.0->spacy<3.2.0,>=3.1.0->en-core-web-lg==3.1.0) (2021.5.30)\n",
      "Requirement already satisfied: charset-normalizer~=2.0.0 in c:\\users\\mazg9\\anaconda3\\envs\\last2\\lib\\site-packages (from requests<3.0.0,>=2.13.0->spacy<3.2.0,>=3.1.0->en-core-web-lg==3.1.0) (2.0.6)\n",
      "Requirement already satisfied: idna<4,>=2.5 in c:\\users\\mazg9\\anaconda3\\envs\\last2\\lib\\site-packages (from requests<3.0.0,>=2.13.0->spacy<3.2.0,>=3.1.0->en-core-web-lg==3.1.0) (3.2)\n",
      "Requirement already satisfied: urllib3<1.27,>=1.21.1 in c:\\users\\mazg9\\anaconda3\\envs\\last2\\lib\\site-packages (from requests<3.0.0,>=2.13.0->spacy<3.2.0,>=3.1.0->en-core-web-lg==3.1.0) (1.26.7)\n",
      "Requirement already satisfied: contextvars<3,>=2.4 in c:\\users\\mazg9\\anaconda3\\envs\\last2\\lib\\site-packages (from thinc<8.1.0,>=8.0.9->spacy<3.2.0,>=3.1.0->en-core-web-lg==3.1.0) (2.4)\n",
      "Requirement already satisfied: immutables>=0.9 in c:\\users\\mazg9\\anaconda3\\envs\\last2\\lib\\site-packages (from contextvars<3,>=2.4->thinc<8.1.0,>=8.0.9->spacy<3.2.0,>=3.1.0->en-core-web-lg==3.1.0) (0.16)\n",
      "Requirement already satisfied: colorama in c:\\users\\mazg9\\appdata\\roaming\\python\\python36\\site-packages (from tqdm<5.0.0,>=4.38.0->spacy<3.2.0,>=3.1.0->en-core-web-lg==3.1.0) (0.4.4)\n",
      "Requirement already satisfied: click<9.0.0,>=7.1.1 in c:\\users\\mazg9\\anaconda3\\envs\\last2\\lib\\site-packages (from typer<0.5.0,>=0.3.0->spacy<3.2.0,>=3.1.0->en-core-web-lg==3.1.0) (8.0.1)\n",
      "Requirement already satisfied: importlib-metadata in c:\\users\\mazg9\\appdata\\roaming\\python\\python36\\site-packages (from click<9.0.0,>=7.1.1->typer<0.5.0,>=0.3.0->spacy<3.2.0,>=3.1.0->en-core-web-lg==3.1.0) (3.4.0)\n",
      "Requirement already satisfied: MarkupSafe>=0.23 in c:\\users\\mazg9\\appdata\\roaming\\python\\python36\\site-packages (from jinja2->spacy<3.2.0,>=3.1.0->en-core-web-lg==3.1.0) (1.1.1)\n",
      "[+] Download and installation successful\n",
      "You can now load the package via spacy.load('en_core_web_lg')\n"
     ]
    }
   ],
   "source": [
    "# class LemmaTokenizer: \n",
    "#     def __init__(self, nlp):\n",
    "#         self.nlp = nlp\n",
    "#     def __call__(self, doc):\n",
    "#         return list(filter(None, [t.lemma_ if not t.is_stop else None for t in self.nlp(doc)]))\n",
    "\n",
    "# tokenizer = LemmaTokenizer(nlp)\n",
    "# X[\"LyricNorm\"] = X[\"Lyric\"].apply(tokenizer)"
   ]
  },
  {
   "cell_type": "code",
   "execution_count": null,
   "id": "53618eaa-8967-4a1e-b3ec-4cf6a0cfac40",
   "metadata": {},
   "outputs": [],
   "source": [
    "X[\"LyricNormStr\"] = X[\"LyricNorm\"].apply(lambda x: ' '.join(x))\n",
    "X[\"LyricNormStr\"]"
   ]
  },
  {
   "cell_type": "code",
   "execution_count": null,
   "id": "50d4b40a-b575-4793-ac20-606fcec75b19",
   "metadata": {},
   "outputs": [],
   "source": [
    "df=X[[\"Lyric\", \"LyricNormStr\", \"Artist\", \"Genre\"]]\n",
    "df"
   ]
  },
  {
   "cell_type": "code",
   "execution_count": null,
   "id": "efaff930-e053-4a22-9cde-b98053b5c864",
   "metadata": {},
   "outputs": [],
   "source": [
    "df.to_csv(PATH_TO_SAVE)"
   ]
  },
  {
   "cell_type": "code",
   "execution_count": 7,
   "id": "6eb790c7-b396-4324-add5-1eef915f2ff6",
   "metadata": {},
   "outputs": [],
   "source": [
    "X = pd.read_csv('./data/lyrics_processed2.csv')"
   ]
  },
  {
   "cell_type": "code",
   "execution_count": null,
   "id": "2c3b751d-0cea-425a-9ece-6d3e5571e303",
   "metadata": {},
   "outputs": [],
   "source": [
    "size = get_num_unique_words(X[\"LyricNormStr\"])\n",
    "size"
   ]
  },
  {
   "cell_type": "code",
   "execution_count": 8,
   "id": "527450c8-2d57-493c-a1d8-7d2a3e0c8894",
   "metadata": {},
   "outputs": [],
   "source": [
    "VOCAB_SIZE = 10000\n",
    "EMBEDDING_DIM = 32\n",
    "MAX_LENGTH = 128\n",
    "TRUNC_TYPE = 'post'\n",
    "PADDING_TYPE = 'post'\n",
    "OOV_TOK = \"<OOV>\"\n",
    "EPOCHS = 5"
   ]
  },
  {
   "cell_type": "code",
   "execution_count": 9,
   "id": "4a12666f-e2af-4976-bcaf-b929d8d60d64",
   "metadata": {},
   "outputs": [
    {
     "data": {
      "text/plain": [
       "10000"
      ]
     },
     "execution_count": 9,
     "metadata": {},
     "output_type": "execute_result"
    }
   ],
   "source": [
    "VOCAB_SIZE"
   ]
  },
  {
   "cell_type": "code",
   "execution_count": 10,
   "id": "70edf4f7-ee3f-460a-b2fe-0f956d6d79e6",
   "metadata": {},
   "outputs": [],
   "source": [
    "tokenizer = Tokenizer(num_words=VOCAB_SIZE, oov_token = OOV_TOK)\n",
    "tokenizer.fit_on_texts(X[\"LyricNormStr\"])\n",
    "\n",
    "word_index = tokenizer.word_index"
   ]
  },
  {
   "cell_type": "code",
   "execution_count": 11,
   "id": "e56a0a39-4630-440f-8d21-1797e1915a06",
   "metadata": {},
   "outputs": [],
   "source": [
    "X_train, X_test, y_train, y_test = train_test_split(X.loc[:, X.columns != 'Genre'], X['Genre'], test_size = 0.3, random_state = 5)"
   ]
  },
  {
   "cell_type": "code",
   "execution_count": 12,
   "id": "d4a5f48d-09fe-452d-931c-105f1d2a15e2",
   "metadata": {},
   "outputs": [
    {
     "data": {
      "text/plain": [
       "28246       Rock\n",
       "70272    Hip Hop\n",
       "73358        Pop\n",
       "67799    Hip Hop\n",
       "26305       Rock\n",
       "          ...   \n",
       "59465    Hip Hop\n",
       "5520        Rock\n",
       "20463       Rock\n",
       "18638       Rock\n",
       "35683       Rock\n",
       "Name: Genre, Length: 66162, dtype: object"
      ]
     },
     "execution_count": 12,
     "metadata": {},
     "output_type": "execute_result"
    }
   ],
   "source": [
    "y_train"
   ]
  },
  {
   "cell_type": "code",
   "execution_count": 13,
   "id": "198a82ae-9652-4b45-bbc0-4c30a0224e14",
   "metadata": {},
   "outputs": [],
   "source": [
    "training_seq = tokenizer.texts_to_sequences(X_train[\"Lyric\"])\n",
    "training_pd = pad_sequences(training_seq, maxlen=MAX_LENGTH, padding=PADDING_TYPE, truncating=TRUNC_TYPE)"
   ]
  },
  {
   "cell_type": "code",
   "execution_count": 14,
   "id": "5a1d253f-5d65-48be-b146-9280985e7ff4",
   "metadata": {},
   "outputs": [],
   "source": [
    "testing_seq = tokenizer.texts_to_sequences(X_test[\"Lyric\"])\n",
    "testing_pd = pad_sequences(testing_seq, maxlen=MAX_LENGTH, padding=PADDING_TYPE, truncating=TRUNC_TYPE)"
   ]
  },
  {
   "cell_type": "markdown",
   "id": "49c63090-5bf6-4d1c-a6c9-22e4c9ab3121",
   "metadata": {},
   "source": [
    "#### One Hot Encoding Labels"
   ]
  },
  {
   "cell_type": "code",
   "execution_count": 15,
   "id": "9d839919-548d-4969-ac67-c1eb7c28880f",
   "metadata": {},
   "outputs": [
    {
     "data": {
      "text/plain": [
       "array([[0., 0., 1.],\n",
       "       [1., 0., 0.],\n",
       "       [0., 1., 0.],\n",
       "       ...,\n",
       "       [0., 0., 1.],\n",
       "       [0., 0., 1.],\n",
       "       [0., 0., 1.]])"
      ]
     },
     "execution_count": 15,
     "metadata": {},
     "output_type": "execute_result"
    }
   ],
   "source": [
    "ohe = OneHotEncoder(sparse=False)\n",
    "training_lbls = ohe.fit_transform(y_train.to_numpy().reshape(-1,1))\n",
    "training_lbls\n"
   ]
  },
  {
   "cell_type": "code",
   "execution_count": 16,
   "id": "968e27ff-ef8f-425f-82bf-d294b2a52f75",
   "metadata": {},
   "outputs": [
    {
     "data": {
      "text/plain": [
       "array([[0., 0., 1.],\n",
       "       [1., 0., 0.],\n",
       "       [0., 1., 0.],\n",
       "       ...,\n",
       "       [0., 1., 0.],\n",
       "       [0., 0., 1.],\n",
       "       [0., 0., 1.]])"
      ]
     },
     "execution_count": 16,
     "metadata": {},
     "output_type": "execute_result"
    }
   ],
   "source": [
    "\n",
    "testing_lbls = ohe.fit_transform(y_test.to_numpy().reshape(-1,1))\n",
    "testing_lbls\n"
   ]
  },
  {
   "cell_type": "code",
   "execution_count": 20,
   "id": "a634f6b4-f08b-4051-b07b-4f5753bd72ab",
   "metadata": {},
   "outputs": [
    {
     "data": {
      "text/plain": [
       "28246               Natalie Merchant\n",
       "70272                   Willow Smith\n",
       "73358                  Big Time Rush\n",
       "67799                         T-Pain\n",
       "26305                          McFly\n",
       "                    ...             \n",
       "59465                       Ice Cube\n",
       "5520                         Blondie\n",
       "20463    Joan Jett & The Blackhearts\n",
       "18638                Imagine Dragons\n",
       "35683                    Rod Stewart\n",
       "Name: Artist, Length: 66162, dtype: object"
      ]
     },
     "execution_count": 20,
     "metadata": {},
     "output_type": "execute_result"
    }
   ],
   "source": [
    "X_train[\"Artist\"]"
   ]
  },
  {
   "cell_type": "code",
   "execution_count": 17,
   "id": "e7b8cb19-fe2f-4429-a548-2c1b6fe0fc28",
   "metadata": {},
   "outputs": [
    {
     "data": {
      "text/plain": [
       "array(['x0_Hip Hop', 'x0_Pop', 'x0_Rock'], dtype=object)"
      ]
     },
     "execution_count": 17,
     "metadata": {},
     "output_type": "execute_result"
    }
   ],
   "source": [
    "ohe.get_feature_names()"
   ]
  },
  {
   "cell_type": "code",
   "execution_count": 18,
   "id": "9a6d3a41-5a11-4d65-a1d6-2cbf9a6b01dd",
   "metadata": {},
   "outputs": [],
   "source": [
    "training_pd = np.array(training_pd)\n",
    "testing_pd = np.array(testing_pd)"
   ]
  },
  {
   "cell_type": "code",
   "execution_count": 28,
   "id": "62593ff3-bf6e-4858-81c4-c2ed06536b80",
   "metadata": {},
   "outputs": [],
   "source": [
    "training_x = X_train[\"Artist\"].to_numpy()\n",
    "testing_x = X_test[\"Artist\"].to_numpy()"
   ]
  },
  {
   "cell_type": "markdown",
   "id": "ccc21aea-6f20-49cf-99b6-4bb7945c6f53",
   "metadata": {},
   "source": [
    "#### Save Numpy Objects"
   ]
  },
  {
   "cell_type": "code",
   "execution_count": 31,
   "id": "801b3413-a297-4583-9df5-aeb748021ad0",
   "metadata": {},
   "outputs": [],
   "source": [
    "with open('./data/train.npy', 'wb') as f:\n",
    "    np.save(f, training_pd)\n",
    "    np.save(f, training_lbls)\n",
    "    np.save(f, VOCAB_SIZE)\n",
    "    \n",
    "with open('./data/test.npy', 'wb') as f:\n",
    "    np.save(f, testing_pd)\n",
    "    np.save(f, testing_lbls)"
   ]
  }
 ],
 "metadata": {
  "kernelspec": {
   "display_name": "Python 3",
   "language": "python",
   "name": "python3"
  },
  "language_info": {
   "codemirror_mode": {
    "name": "ipython",
    "version": 3
   },
   "file_extension": ".py",
   "mimetype": "text/x-python",
   "name": "python",
   "nbconvert_exporter": "python",
   "pygments_lexer": "ipython3",
   "version": "3.6.13"
  }
 },
 "nbformat": 4,
 "nbformat_minor": 5
}
