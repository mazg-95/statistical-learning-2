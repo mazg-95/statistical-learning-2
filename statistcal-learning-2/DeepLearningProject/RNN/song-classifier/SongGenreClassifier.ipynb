{
 "cells": [
  {
   "cell_type": "code",
   "execution_count": 37,
   "id": "13d756e2",
   "metadata": {},
   "outputs": [],
   "source": [
    "import os\n",
    "import numpy as np\n",
    "import pandas as pd\n",
    "import csv\n",
    "from datetime import datetime\n",
    "import matplotlib.pyplot as plt\n",
    "from sklearn import metrics\n",
    "from sklearn.model_selection import train_test_split\n",
    "import tensorflow as tf\n",
    "from keras.models import load_model, Sequential, Model\n",
    "from keras.layers import Dense, Dropout, Softmax, BatchNormalization, Embedding, LSTM, SimpleRNN\n",
    "from keras.initializers import GlorotNormal, GlorotUniform\n",
    "from keras.callbacks import EarlyStopping, TensorBoard, ModelCheckpoint\n",
    "from keras.preprocessing.text import Tokenizer\n",
    "from keras.preprocessing.sequence import pad_sequences\n",
    "from sklearn.preprocessing import OneHotEncoder\n",
    "from keras.regularizers import L1L2"
   ]
  },
  {
   "cell_type": "code",
   "execution_count": 4,
   "id": "2f13e776-0af6-497a-b2a6-d82b923fd04c",
   "metadata": {},
   "outputs": [
    {
     "data": {
      "text/plain": [
       "'2.5.0'"
      ]
     },
     "execution_count": 4,
     "metadata": {},
     "output_type": "execute_result"
    }
   ],
   "source": [
    "import tensorflow as tf\n",
    "tf.__version__"
   ]
  },
  {
   "cell_type": "code",
   "execution_count": 5,
   "id": "ba56f5b8",
   "metadata": {},
   "outputs": [
    {
     "name": "stdout",
     "output_type": "stream",
     "text": [
      "Num GPUs: 1\n"
     ]
    }
   ],
   "source": [
    "physical_devices = tf.config.list_physical_devices('GPU')\n",
    "print(\"Num GPUs:\", len(physical_devices))"
   ]
  },
  {
   "cell_type": "markdown",
   "id": "002dd638",
   "metadata": {
    "tags": []
   },
   "source": [
    "## Song Classifier\n",
    "\n",
    "### RNN (LSTM)\n",
    "\n",
    "Dataset: https://www.kaggle.com/neisse/scrapped-lyrics-from-6-genres"
   ]
  },
  {
   "cell_type": "markdown",
   "id": "0b097862",
   "metadata": {},
   "source": [
    "#### Import Data\n"
   ]
  },
  {
   "cell_type": "code",
   "execution_count": 53,
   "id": "f5829895-0120-43d0-9b2c-f8ffc71786a5",
   "metadata": {},
   "outputs": [],
   "source": [
    "base_dir = './data'"
   ]
  },
  {
   "cell_type": "code",
   "execution_count": 87,
   "id": "9a6d3a41-5a11-4d65-a1d6-2cbf9a6b01dd",
   "metadata": {},
   "outputs": [],
   "source": [
    "with open(f'{base_dir}/train.npy', 'rb') as f:\n",
    "    training_pd = np.load(f)\n",
    "    training_lbls = np.load(f)\n",
    "    size = np.load(f)\n",
    "    \n",
    "with open(f'{base_dir}/test.npy', 'rb') as f:\n",
    "    testing_pd = np.load(f)\n",
    "    testing_lbls = np.load(f)"
   ]
  },
  {
   "cell_type": "code",
   "execution_count": 55,
   "id": "4867a0f3-00a8-4daf-9881-b20206b3f139",
   "metadata": {},
   "outputs": [
    {
     "data": {
      "text/plain": [
       "array([[  61, 6210,    1,    1, 6202,  292, 9177,  900, 1029,    1, 7490,\n",
       "        2598, 3394, 5549,    1,    1,    1, 2925,    1,    1,    1, 7490,\n",
       "        2598,   61, 6210,    1,    1, 6202, 4408,  292, 3682,    1,    1,\n",
       "        7490,   89, 4588, 5286, 1135, 1144,    1, 5286,    1, 5303, 5286,\n",
       "           1, 5484, 2626,    1, 2598,  689,  155,    1,  386,  689,  155,\n",
       "           1, 1443,   99,    1, 5303, 7056,    1,   56, 9428,    1,    1,\n",
       "        3824, 7056, 4644,  689, 6609,   61, 6210,    1,    1, 6202, 4408,\n",
       "         292,    1,    1, 3067, 5303, 4611, 4408, 5286,  467, 2963, 5286,\n",
       "        5391,  643, 2421, 2204, 5484,    1,    1, 4065, 8922, 2598, 5303,\n",
       "        6210,    1,    1, 6202, 4408, 5286,    1, 5925, 5484, 1518, 7007,\n",
       "        8918,  292,  333, 1613, 4568, 3392, 5549,  292, 1829, 1231,    1,\n",
       "        5303, 5635,    1,    1, 6786, 2598,  689]])"
      ]
     },
     "execution_count": 55,
     "metadata": {},
     "output_type": "execute_result"
    }
   ],
   "source": [
    "training_pd[:1]"
   ]
  },
  {
   "cell_type": "code",
   "execution_count": 46,
   "id": "d77af9b9-f96b-4a48-8dcb-dadb3cd733f3",
   "metadata": {},
   "outputs": [
    {
     "data": {
      "text/plain": [
       "array([[0., 0., 1.]])"
      ]
     },
     "execution_count": 46,
     "metadata": {},
     "output_type": "execute_result"
    }
   ],
   "source": [
    "training_lbls[:1]"
   ]
  },
  {
   "cell_type": "markdown",
   "id": "c72b045c-6482-4314-93f9-ee63a5a23781",
   "metadata": {},
   "source": [
    "array(['x0_Hip Hop', 'x0_Pop', 'x0_Rock'], dtype=object)"
   ]
  },
  {
   "cell_type": "markdown",
   "id": "4b660a21-cdc2-459a-9b7f-6d00435ceff4",
   "metadata": {},
   "source": [
    "#### Trainning"
   ]
  },
  {
   "cell_type": "code",
   "execution_count": 60,
   "id": "25ef5ada-1fa1-4967-aef3-3316b02272d9",
   "metadata": {},
   "outputs": [],
   "source": [
    "VOCAB_SIZE = size\n",
    "EMBEDDING_DIM = 32\n",
    "MAX_LENGTH = 128\n",
    "TRUNC_TYPE = 'post'\n",
    "PADDING_TYPE = 'post'\n",
    "OOV_TOK = \"<OOV>\"\n",
    "EPOCHS = 5"
   ]
  },
  {
   "cell_type": "code",
   "execution_count": 10,
   "id": "647ee5ab",
   "metadata": {},
   "outputs": [],
   "source": [
    "#### Trainning Callbacks\n",
    "def _get_checkpoint_cb(path, experiment_id, eval_metric):\n",
    "    return ModelCheckpoint(filepath=f\"{path}/experiment_{experiment_id}/checkpoint_{experiment_id}\", \n",
    "                                                               save_weights_only = True,\n",
    "                                                               monitor = f'val_{eval_metric}',\n",
    "                                                               save_best_only = True,\n",
    "                                                               verbose = 1)\n",
    "\n",
    "def _get_early_stopping_cb(path, experiment_id, eval_metric):\n",
    "    return EarlyStopping(monitor = f'val_{eval_metric}', patience = 3, restore_best_weights = True)\n",
    "\n",
    "def _get_tensorboard_cb(path, experiment_id, eval_metric):\n",
    "    return TensorBoard(log_dir=f\"{path}/logs/tensorboard/experiment_{experiment_id}\", \n",
    "                                          histogram_freq=10, \n",
    "                                          write_graph=True, \n",
    "                                          write_images=False, \n",
    "                                          write_steps_per_second=False, \n",
    "                                          update_freq=\"epoch\", \n",
    "                                          profile_batch=2, \n",
    "                                          embeddings_freq=10, \n",
    "                                          embeddings_metadata=None)"
   ]
  },
  {
   "cell_type": "code",
   "execution_count": 11,
   "id": "54334af4",
   "metadata": {},
   "outputs": [],
   "source": [
    "from os.path import exists\n",
    "\n",
    "class RNNExperiments():\n",
    "    def __init__(self, results_path, eval_metric, batch_size, epochs=20, val_split=0.2, training_callbacks = None, evaluation_cb=None):\n",
    "        self.path = results_path\n",
    "        self.current_model = None\n",
    "        self.current_history = None\n",
    "        self.eval_metric = eval_metric\n",
    "        self.epochs = epochs\n",
    "        self.batch_size = batch_size\n",
    "        self.val_split = val_split\n",
    "        self._callbacks = []\n",
    "        self.evaluation_cb = evaluation_cb\n",
    "        self._init_files()\n",
    "        print(f\"Current Experiment Id = {self._current_experiment_id}\")\n",
    "        \n",
    "    def _init_files(self):\n",
    "        file_exists = exists(f'{self.path}/logs/models.npy')\n",
    "        if not file_exists:\n",
    "            self._current_experiment_id = 0\n",
    "            self.update_experiment_id()\n",
    "        else:\n",
    "            self._current_experiment_id = np.load(f'{self.path}/logs/models.npy')[0]\n",
    "        \n",
    "        ### experiments file\n",
    "        path = f'{self.path}/logs/experiments.csv'\n",
    "        file_exists = exists(path)\n",
    "        if not file_exists:\n",
    "            header = [\"ExperimentID\", \"Datetime\", f\"train_{self.eval_metric}\" ,f\"val_{self.eval_metric}\"]\n",
    "            with open(path, '+w') as f:\n",
    "                # create the csv writer\n",
    "                writer = csv.writer(f)\n",
    "                # write a row to the csv file\n",
    "                writer.writerow(header)\n",
    "        ### results file\n",
    "        path = f'{self.path}/logs/test_results.csv'\n",
    "        file_exists = exists(path)\n",
    "        if not file_exists:\n",
    "            header = [\"ExperimentID\", \"Datetime\", \"test_loss\" ,f\"test_{self.eval_metric}\"] if not self.evaluation_cb else [\"ExperimentID\", \"Datetime\", \"test_loss\" ,f\"test_{self.eval_metric}\", \"custom_metric\"]\n",
    "            with open(path, '+w') as f:\n",
    "                # create the csv writer\n",
    "                writer = csv.writer(f)\n",
    "                # write a row to the csv file\n",
    "                writer.writerow(header)\n",
    "                                                    \n",
    "    \n",
    "    def add_callback(self, build_cb):\n",
    "        self._callbacks.append(build_cb)\n",
    "        return self\n",
    "\n",
    "    def run_experiment(self, model, train_x, train_y=None, batch_size=None, class_weight=None, verbose=1):\n",
    "        self.current_model = model\n",
    "        self.current_history = model.fit(\n",
    "                                        x = train_x,\n",
    "                                        y = train_y,\n",
    "                                        epochs = self.epochs,\n",
    "                                        verbose=verbose,\n",
    "                                        shuffle=True,\n",
    "                                        batch_size = batch_size or self.batch_size,\n",
    "                                        validation_split = self.val_split,\n",
    "                                        callbacks = list(map(lambda build_cb: build_cb(self.path, self._current_experiment_id, self.eval_metric), self._callbacks)),\n",
    "                                        class_weight=class_weight)\n",
    "        self._current_experiment_id += 1\n",
    "        self.save_experiment()\n",
    "        return self.current_model, self._current_experiment_id\n",
    "    \n",
    "    def run_experiment_generator(self, model, train_gen, val_gen, verbose=1):\n",
    "        self.current_model = model\n",
    "        self.current_history = model.fit(\n",
    "                                        train_gen,\n",
    "                                        epochs = self.epochs,\n",
    "                                        verbose=verbose,\n",
    "                                        shuffle=True,\n",
    "                                        validation_data = val_gen,\n",
    "                                        callbacks = list(map(lambda build_cb: build_cb(self.path, self._current_experiment_id, self.eval_metric), self._callbacks)))\n",
    "        self._current_experiment_id += 1\n",
    "        self.save_experiment()\n",
    "        return self.current_model, self._current_experiment_id\n",
    "    \n",
    "    def update_experiment_id(self):\n",
    "        np.save(f'{self.path}/logs/models.npy', [self._current_experiment_id])\n",
    "        \n",
    "    def save_experiment(self):\n",
    "        experiment_id = self.get_current_experiment_id()\n",
    "        self.update_experiment_id()\n",
    "        history = self.current_history.history\n",
    "        train_result = history[self.eval_metric][len(history[self.eval_metric]) - 1]\n",
    "        val_result = history[f\"val_{self.eval_metric}\"][len(history[f\"val_{self.eval_metric}\"]) - 1]\n",
    "        self.current_model.save(f\"{self.path}/experiment_{experiment_id}\")\n",
    "        res = pd.DataFrame({'ExperimentId': experiment_id, 'Datetime': datetime.now().strftime(\"%Y%m%d-%H:%M:%S\"), \n",
    "                            f\"train_{self.eval_metric}\": train_result, \n",
    "                            f\"val_{self.eval_metric}\": val_result}, index=[0])\n",
    "        res.to_csv(f'{self.path}/logs/experiments.csv', mode='+a', index = False, header = False)\n",
    "            \n",
    "    def plot_model_loss(self, metric=None):\n",
    "        if not self.current_history:\n",
    "            return None\n",
    "        history = self.current_history\n",
    "        plt.figure(self.get_current_experiment_id())\n",
    "        plt.plot(history.history[metric or 'loss'])\n",
    "        plt.plot(history.history[f'val_{metric or \"loss\"}'])\n",
    "        plt.legend(['Training', 'Validation'])\n",
    "        plt.title(f'Train/Val {metric or \"Loss\"} {self.get_current_experiment_id()}')\n",
    "        plt.xlabel('Epoch') \n",
    "        plt.show()\n",
    "            \n",
    "    \n",
    "    def get_model(self, model_id=None):\n",
    "        return load_model(f\"{self.path}/experiment_{model_id}\") if model_id else self.current_model\n",
    "    \n",
    "    def summary_experiments(self):\n",
    "        return pd.read_csv(f'{self.path}/logs/experiments.csv').sort_values(by = f\"val_{self.eval_metric}\")\n",
    "    \n",
    "    def get_current_experiment_id(self):\n",
    "        return self._current_experiment_id\n",
    "    \n",
    "    def save_results(self, test_loss, test_metric, custom_metric=None):\n",
    "        res = pd.DataFrame({'ExperimentId': self.get_current_experiment_id(), 'Datetime': datetime.now().strftime(\"%Y%m%d-%H:%M:%S\"), \n",
    "         f\"test_loss\": test_loss, f\"test_{self.eval_metric}\": test_metric, \"test_metric\": custom_metric}, index=[0])\n",
    "        res.to_csv(f'{self.path}/logs/test_results.csv', mode='+a', index = False, header = False)\n",
    "            \n",
    "    def test(self, x_test, y_test=None):\n",
    "        if not self.current_model:\n",
    "            raise Exception(\"No model trained\")\n",
    "        test_loss, test_metric = self.current_model.evaluate(x_test, y_test)\n",
    "        self.save_results(test_loss, test_metric, None)\n",
    "# return metrics.classification_report(y_true, y_hat, digits=3)\n",
    "        return test_loss, test_metric\n",
    "\n",
    "    def compare_test_results(self):\n",
    "        return pd.read_csv(f'{self.path}/logs/test_results.csv')\n",
    "    \n",
    "    def predict(self, x_test):\n",
    "        if not self.current_model:\n",
    "            raise Exception(\"No model trained\")\n",
    "        return self.current_model.predict(x_test)\n",
    "    \n",
    "    def set_current_model(self, model_id):\n",
    "        try:\n",
    "            self.current_model = self.get_model(model_id)\n",
    "        except:\n",
    "            raise Exception(\"Error al cargar modelo. Verificar Id de Modelo.\")\n",
    "\n"
   ]
  },
  {
   "cell_type": "markdown",
   "id": "e6087182-ce23-4165-a187-849a8dea3fac",
   "metadata": {},
   "source": [
    "#### RNN Model"
   ]
  },
  {
   "cell_type": "code",
   "execution_count": 61,
   "id": "5b9622b1-18ef-495e-9610-7fd9c16e881e",
   "metadata": {},
   "outputs": [
    {
     "name": "stdout",
     "output_type": "stream",
     "text": [
      "10000\n",
      "32\n",
      "128\n"
     ]
    }
   ],
   "source": [
    "print(VOCAB_SIZE, EMBEDDING_DIM, MAX_LENGTH, sep='\\n')"
   ]
  },
  {
   "cell_type": "code",
   "execution_count": 69,
   "id": "c899c001-822b-4137-9326-eb7c2b4f93bd",
   "metadata": {},
   "outputs": [
    {
     "name": "stdout",
     "output_type": "stream",
     "text": [
      "Current Experiment Id = 26\n"
     ]
    },
    {
     "data": {
      "text/plain": [
       "<__main__.RNNExperiments at 0x1dc2565cc50>"
      ]
     },
     "execution_count": 69,
     "metadata": {},
     "output_type": "execute_result"
    }
   ],
   "source": [
    "experiment_controller = RNNExperiments(\"./songs\", \"accuracy\", batch_size = 128, epochs=EPOCHS)\n",
    "experiment_controller.add_callback(_get_checkpoint_cb).add_callback(_get_tensorboard_cb).add_callback(_get_early_stopping_cb)"
   ]
  },
  {
   "cell_type": "code",
   "execution_count": 15,
   "id": "772f3ad6-955d-4f92-b5a1-33d7993fe337",
   "metadata": {},
   "outputs": [
    {
     "data": {
      "text/plain": [
       "(66162, 128)"
      ]
     },
     "execution_count": 15,
     "metadata": {},
     "output_type": "execute_result"
    }
   ],
   "source": [
    "training_pd.shape"
   ]
  },
  {
   "cell_type": "code",
   "execution_count": 68,
   "id": "ed35699b-9946-4937-9781-b8d1ceaac568",
   "metadata": {},
   "outputs": [
    {
     "data": {
      "text/plain": [
       "(66162, 3)"
      ]
     },
     "execution_count": 68,
     "metadata": {},
     "output_type": "execute_result"
    }
   ],
   "source": [
    "training_lbls.shape"
   ]
  },
  {
   "cell_type": "code",
   "execution_count": null,
   "id": "0e61eba7-1a20-401f-8b9f-e353224334df",
   "metadata": {},
   "outputs": [],
   "source": [
    "model = Sequential([\n",
    "    Embedding(VOCAB_SIZE, EMBEDDING_DIM, input_length=MAX_LENGTH),\n",
    "    LSTM(64), \n",
    "    Dense(32, activation='relu'),\n",
    "    Dense(3, activation='softmax')\n",
    "])\n",
    "model.compile(loss='categorical_crossentropy',optimizer='adam',metrics=['accuracy'])\n",
    "model.summary()"
   ]
  },
  {
   "cell_type": "code",
   "execution_count": null,
   "id": "4e8268d4-8d21-4798-9296-c75c1b23f493",
   "metadata": {},
   "outputs": [],
   "source": [
    "model, exp_id = experiment_controller.run_experiment(model, training_pd, training_lbls)\n",
    "\n",
    "print(\"ExperimentId:\", exp_id)\n",
    "experiment_controller.plot_model_loss()\n",
    "experiment_controller.plot_model_loss(\"accuracy\")\n",
    "print(experiment_controller.test(testing_pd, testing_lbls))\n"
   ]
  },
  {
   "cell_type": "code",
   "execution_count": 22,
   "id": "8445d1bd-6cbb-4064-9529-91370d9fd7e8",
   "metadata": {},
   "outputs": [
    {
     "name": "stdout",
     "output_type": "stream",
     "text": [
      "887/887 [==============================] - 5s 6ms/step - loss: 0.7245 - accuracy: 0.6762\n",
      "(0.7244924306869507, 0.6761884689331055)\n"
     ]
    }
   ],
   "source": [
    "print(experiment_controller.test(testing_pd, testing_lbls))"
   ]
  },
  {
   "cell_type": "code",
   "execution_count": 23,
   "id": "75bdc316-80c2-4a11-9347-498470e2012c",
   "metadata": {},
   "outputs": [
    {
     "name": "stdout",
     "output_type": "stream",
     "text": [
      "Model: \"sequential_1\"\n",
      "_________________________________________________________________\n",
      "Layer (type)                 Output Shape              Param #   \n",
      "=================================================================\n",
      "embedding_1 (Embedding)      (None, 128, 32)           3563712   \n",
      "_________________________________________________________________\n",
      "simple_rnn (SimpleRNN)       (None, 64)                6208      \n",
      "_________________________________________________________________\n",
      "dense_2 (Dense)              (None, 32)                2080      \n",
      "_________________________________________________________________\n",
      "dense_3 (Dense)              (None, 3)                 99        \n",
      "=================================================================\n",
      "Total params: 3,572,099\n",
      "Trainable params: 3,572,099\n",
      "Non-trainable params: 0\n",
      "_________________________________________________________________\n",
      "Epoch 1/5\n",
      "414/414 [==============================] - 114s 264ms/step - loss: 0.9881 - accuracy: 0.5204 - val_loss: 0.9569 - val_accuracy: 0.5310\n",
      "\n",
      "Epoch 00001: val_accuracy improved from -inf to 0.53102, saving model to ./songs/experiment_6\\checkpoint_6\n",
      "Epoch 2/5\n",
      "414/414 [==============================] - 109s 263ms/step - loss: 0.9414 - accuracy: 0.5394 - val_loss: 0.9506 - val_accuracy: 0.5430\n",
      "\n",
      "Epoch 00002: val_accuracy improved from 0.53102 to 0.54296, saving model to ./songs/experiment_6\\checkpoint_6\n",
      "Epoch 3/5\n",
      "414/414 [==============================] - 106s 257ms/step - loss: 0.8987 - accuracy: 0.5764 - val_loss: 0.8572 - val_accuracy: 0.6032\n",
      "\n",
      "Epoch 00003: val_accuracy improved from 0.54296 to 0.60319, saving model to ./songs/experiment_6\\checkpoint_6\n",
      "Epoch 4/5\n",
      "414/414 [==============================] - 105s 253ms/step - loss: 0.7847 - accuracy: 0.6508 - val_loss: 0.9680 - val_accuracy: 0.5146\n",
      "\n",
      "Epoch 00004: val_accuracy did not improve from 0.60319\n",
      "Epoch 5/5\n",
      "414/414 [==============================] - 107s 259ms/step - loss: 0.8786 - accuracy: 0.5977 - val_loss: 1.0358 - val_accuracy: 0.5198\n",
      "\n",
      "Epoch 00005: val_accuracy did not improve from 0.60319\n",
      "INFO:tensorflow:Assets written to: ./songs/experiment_7\\assets\n"
     ]
    },
    {
     "name": "stderr",
     "output_type": "stream",
     "text": [
      "INFO:tensorflow:Assets written to: ./songs/experiment_7\\assets\n"
     ]
    },
    {
     "name": "stdout",
     "output_type": "stream",
     "text": [
      "ExperimentId: 7\n"
     ]
    },
    {
     "data": {
      "image/png": "[encoded data removed]",
      "text/plain": [
       "<Figure size 432x288 with 1 Axes>"
      ]
     },
     "metadata": {
      "needs_background": "light"
     },
     "output_type": "display_data"
    },
    {
     "data": {
      "image/png": "[encoded data removed]",
      "text/plain": [
       "<Figure size 432x288 with 1 Axes>"
      ]
     },
     "metadata": {
      "needs_background": "light"
     },
     "output_type": "display_data"
    },
    {
     "name": "stdout",
     "output_type": "stream",
     "text": [
      "887/887 [==============================] - 20s 22ms/step - loss: 1.0350 - accuracy: 0.5164\n",
      "(1.0350042581558228, 0.5163986682891846)\n"
     ]
    }
   ],
   "source": [
    "model = Sequential([\n",
    "    Embedding(VOCAB_SIZE, EMBEDDING_DIM, input_length=MAX_LENGTH),\n",
    "    SimpleRNN(64), \n",
    "    Dense(32, activation='relu'),\n",
    "    Dense(3, activation='softmax')\n",
    "])\n",
    "model.compile(loss='categorical_crossentropy',optimizer='adam',metrics=['accuracy'])\n",
    "model.summary()\n",
    "model, exp_id = experiment_controller.run_experiment(model, training_pd, training_lbls)\n",
    "\n",
    "print(\"ExperimentId:\", exp_id)\n",
    "experiment_controller.plot_model_loss()\n",
    "experiment_controller.plot_model_loss(\"accuracy\")\n",
    "print(experiment_controller.test(testing_pd, testing_lbls))"
   ]
  },
  {
   "cell_type": "code",
   "execution_count": 26,
   "id": "2de82aaf-66cd-4699-8f2e-5ce8e0ee8604",
   "metadata": {},
   "outputs": [
    {
     "name": "stdout",
     "output_type": "stream",
     "text": [
      "Model: \"sequential_2\"\n",
      "_________________________________________________________________\n",
      "Layer (type)                 Output Shape              Param #   \n",
      "=================================================================\n",
      "embedding_4 (Embedding)      (None, 128, 32)           3563712   \n",
      "_________________________________________________________________\n",
      "module_wrapper (ModuleWrappe (None, 64)                16640     \n",
      "_________________________________________________________________\n",
      "dense_4 (Dense)              (None, 32)                2080      \n",
      "_________________________________________________________________\n",
      "dense_5 (Dense)              (None, 3)                 99        \n",
      "=================================================================\n",
      "Total params: 3,582,531\n",
      "Trainable params: 3,582,531\n",
      "Non-trainable params: 0\n",
      "_________________________________________________________________\n",
      "WARNING:tensorflow:Model failed to serialize as JSON. Ignoring... Layer ModuleWrapper has arguments in `__init__` and therefore must override `get_config`.\n"
     ]
    },
    {
     "name": "stderr",
     "output_type": "stream",
     "text": [
      "WARNING:tensorflow:Model failed to serialize as JSON. Ignoring... Layer ModuleWrapper has arguments in `__init__` and therefore must override `get_config`.\n"
     ]
    },
    {
     "name": "stdout",
     "output_type": "stream",
     "text": [
      "Epoch 1/5\n",
      "414/414 [==============================] - 19s 40ms/step - loss: 0.8924 - accuracy: 0.5744 - val_loss: 0.7169 - val_accuracy: 0.6769\n",
      "\n",
      "Epoch 00001: val_accuracy improved from -inf to 0.67694, saving model to ./songs/experiment_7\\checkpoint_7\n",
      "Epoch 2/5\n",
      "414/414 [==============================] - 16s 39ms/step - loss: 0.6515 - accuracy: 0.7152 - val_loss: 0.7002 - val_accuracy: 0.6832\n",
      "\n",
      "Epoch 00002: val_accuracy improved from 0.67694 to 0.68322, saving model to ./songs/experiment_7\\checkpoint_7\n",
      "Epoch 3/5\n",
      "414/414 [==============================] - 16s 39ms/step - loss: 0.5580 - accuracy: 0.7556 - val_loss: 0.7199 - val_accuracy: 0.6785\n",
      "\n",
      "Epoch 00003: val_accuracy did not improve from 0.68322\n",
      "Epoch 4/5\n",
      "414/414 [==============================] - 16s 38ms/step - loss: 0.4860 - accuracy: 0.7889 - val_loss: 0.7743 - val_accuracy: 0.6686\n",
      "\n",
      "Epoch 00004: val_accuracy did not improve from 0.68322\n",
      "Epoch 5/5\n",
      "414/414 [==============================] - 16s 38ms/step - loss: 0.4218 - accuracy: 0.8165 - val_loss: 0.8451 - val_accuracy: 0.6587\n",
      "\n",
      "Epoch 00005: val_accuracy did not improve from 0.68322\n"
     ]
    },
    {
     "name": "stderr",
     "output_type": "stream",
     "text": [
      "WARNING:absl:Found untraced functions such as lstm_cell_1_layer_call_and_return_conditional_losses, lstm_cell_1_layer_call_fn, lstm_cell_2_layer_call_and_return_conditional_losses, lstm_cell_2_layer_call_fn, lstm_cell_1_layer_call_fn while saving (showing 5 of 10). These functions will not be directly callable after loading.\n"
     ]
    },
    {
     "name": "stdout",
     "output_type": "stream",
     "text": [
      "INFO:tensorflow:Assets written to: ./songs/experiment_8\\assets\n"
     ]
    },
    {
     "name": "stderr",
     "output_type": "stream",
     "text": [
      "INFO:tensorflow:Assets written to: ./songs/experiment_8\\assets\n"
     ]
    },
    {
     "name": "stdout",
     "output_type": "stream",
     "text": [
      "ExperimentId: 8\n"
     ]
    },
    {
     "data": {
      "image/png": "[encoded data removed]",
      "text/plain": [
       "<Figure size 432x288 with 1 Axes>"
      ]
     },
     "metadata": {
      "needs_background": "light"
     },
     "output_type": "display_data"
    },
    {
     "data": {
      "image/png": "[encoded data removed]",
      "text/plain": [
       "<Figure size 432x288 with 1 Axes>"
      ]
     },
     "metadata": {
      "needs_background": "light"
     },
     "output_type": "display_data"
    },
    {
     "name": "stdout",
     "output_type": "stream",
     "text": [
      "887/887 [==============================] - 7s 8ms/step - loss: 0.6916 - accuracy: 0.6880\n",
      "(0.6916378736495972, 0.6880378127098083)\n"
     ]
    }
   ],
   "source": [
    "model = Sequential([\n",
    "    Embedding(VOCAB_SIZE, EMBEDDING_DIM, input_length=MAX_LENGTH),\n",
    "    tf.keras.layers.Bidirectional(tf.keras.layers.LSTM(32)), \n",
    "    Dense(32, activation='relu'),\n",
    "    Dense(3, activation='softmax')\n",
    "])\n",
    "model.compile(loss='categorical_crossentropy',optimizer='adam',metrics=['accuracy'])\n",
    "model.summary()\n",
    "model, exp_id = experiment_controller.run_experiment(model, training_pd, training_lbls)\n",
    "\n",
    "print(\"ExperimentId:\", exp_id)\n",
    "experiment_controller.plot_model_loss()\n",
    "experiment_controller.plot_model_loss(\"accuracy\")\n",
    "print(experiment_controller.test(testing_pd, testing_lbls))"
   ]
  },
  {
   "cell_type": "code",
   "execution_count": 30,
   "id": "26ff91ba-fd3f-463f-92d8-e848137b7ba1",
   "metadata": {},
   "outputs": [
    {
     "name": "stdout",
     "output_type": "stream",
     "text": [
      "Epoch 1/5\n",
      "414/414 [==============================] - 17s 36ms/step - loss: 0.9038 - accuracy: 0.5724 - val_loss: 0.7345 - val_accuracy: 0.6723\n",
      "\n",
      "Epoch 00001: val_accuracy improved from -inf to 0.67233, saving model to ./songs/experiment_9\\checkpoint_9\n",
      "Epoch 2/5\n",
      "414/414 [==============================] - 14s 34ms/step - loss: 0.6827 - accuracy: 0.7007 - val_loss: 0.7323 - val_accuracy: 0.6811\n",
      "\n",
      "Epoch 00002: val_accuracy improved from 0.67233 to 0.68110, saving model to ./songs/experiment_9\\checkpoint_9\n",
      "Epoch 3/5\n",
      "414/414 [==============================] - 14s 33ms/step - loss: 0.6097 - accuracy: 0.7404 - val_loss: 0.7348 - val_accuracy: 0.6704\n",
      "\n",
      "Epoch 00003: val_accuracy did not improve from 0.68110\n",
      "Epoch 4/5\n",
      "414/414 [==============================] - 14s 33ms/step - loss: 0.5514 - accuracy: 0.7690 - val_loss: 0.7649 - val_accuracy: 0.6712\n",
      "\n",
      "Epoch 00004: val_accuracy did not improve from 0.68110\n",
      "Epoch 5/5\n",
      "414/414 [==============================] - 14s 34ms/step - loss: 0.5047 - accuracy: 0.7899 - val_loss: 0.7816 - val_accuracy: 0.6513\n",
      "\n",
      "Epoch 00005: val_accuracy did not improve from 0.68110\n"
     ]
    },
    {
     "name": "stderr",
     "output_type": "stream",
     "text": [
      "WARNING:absl:Found untraced functions such as lstm_cell_6_layer_call_and_return_conditional_losses, lstm_cell_6_layer_call_fn, lstm_cell_6_layer_call_fn, lstm_cell_6_layer_call_and_return_conditional_losses, lstm_cell_6_layer_call_and_return_conditional_losses while saving (showing 5 of 5). These functions will not be directly callable after loading.\n"
     ]
    },
    {
     "name": "stdout",
     "output_type": "stream",
     "text": [
      "INFO:tensorflow:Assets written to: ./songs/experiment_10\\assets\n"
     ]
    },
    {
     "name": "stderr",
     "output_type": "stream",
     "text": [
      "INFO:tensorflow:Assets written to: ./songs/experiment_10\\assets\n"
     ]
    },
    {
     "name": "stdout",
     "output_type": "stream",
     "text": [
      "ExperimentId: 10\n"
     ]
    },
    {
     "data": {
      "image/png": "[encoded data removed]",
      "text/plain": [
       "<Figure size 432x288 with 1 Axes>"
      ]
     },
     "metadata": {
      "needs_background": "light"
     },
     "output_type": "display_data"
    },
    {
     "data": {
      "image/png": "[encoded data removed]",
      "text/plain": [
       "<Figure size 432x288 with 1 Axes>"
      ]
     },
     "metadata": {
      "needs_background": "light"
     },
     "output_type": "display_data"
    },
    {
     "name": "stdout",
     "output_type": "stream",
     "text": [
      "887/887 [==============================] - 5s 5ms/step - loss: 0.7211 - accuracy: 0.6837\n",
      "(0.7211201190948486, 0.683664858341217)\n",
      "887/887 [==============================] - 5s 5ms/step - loss: 0.7211 - accuracy: 0.6837\n",
      "Results:  adam   10   [0.7211201190948486, 0.683664858341217]\n",
      "Epoch 1/5\n",
      "414/414 [==============================] - 16s 31ms/step - loss: 0.6062 - accuracy: 0.7399 - val_loss: 0.7363 - val_accuracy: 0.6755\n",
      "\n",
      "Epoch 00001: val_accuracy improved from -inf to 0.67551, saving model to ./songs/experiment_10\\checkpoint_10\n",
      "Epoch 2/5\n",
      "414/414 [==============================] - 11s 27ms/step - loss: 0.5651 - accuracy: 0.7614 - val_loss: 0.7642 - val_accuracy: 0.6606\n",
      "\n",
      "Epoch 00002: val_accuracy did not improve from 0.67551\n",
      "Epoch 3/5\n",
      "414/414 [==============================] - 12s 28ms/step - loss: 0.5315 - accuracy: 0.7753 - val_loss: 0.8504 - val_accuracy: 0.6352\n",
      "\n",
      "Epoch 00003: val_accuracy did not improve from 0.67551\n",
      "Epoch 4/5\n",
      "414/414 [==============================] - 12s 28ms/step - loss: 0.5006 - accuracy: 0.7896 - val_loss: 0.7976 - val_accuracy: 0.6517\n",
      "\n",
      "Epoch 00004: val_accuracy did not improve from 0.67551\n"
     ]
    },
    {
     "name": "stderr",
     "output_type": "stream",
     "text": [
      "WARNING:absl:Found untraced functions such as lstm_cell_6_layer_call_and_return_conditional_losses, lstm_cell_6_layer_call_fn, lstm_cell_6_layer_call_fn, lstm_cell_6_layer_call_and_return_conditional_losses, lstm_cell_6_layer_call_and_return_conditional_losses while saving (showing 5 of 5). These functions will not be directly callable after loading.\n"
     ]
    },
    {
     "name": "stdout",
     "output_type": "stream",
     "text": [
      "INFO:tensorflow:Assets written to: ./songs/experiment_11\\assets\n"
     ]
    },
    {
     "name": "stderr",
     "output_type": "stream",
     "text": [
      "INFO:tensorflow:Assets written to: ./songs/experiment_11\\assets\n"
     ]
    },
    {
     "name": "stdout",
     "output_type": "stream",
     "text": [
      "ExperimentId: 11\n"
     ]
    },
    {
     "data": {
      "image/png": "[encoded data removed]",
      "text/plain": [
       "<Figure size 432x288 with 1 Axes>"
      ]
     },
     "metadata": {
      "needs_background": "light"
     },
     "output_type": "display_data"
    },
    {
     "data": {
      "image/png": "[encoded data removed]",
      "text/plain": [
       "<Figure size 432x288 with 1 Axes>"
      ]
     },
     "metadata": {
      "needs_background": "light"
     },
     "output_type": "display_data"
    },
    {
     "name": "stdout",
     "output_type": "stream",
     "text": [
      "887/887 [==============================] - 5s 5ms/step - loss: 0.7223 - accuracy: 0.6804\n",
      "(0.7223225831985474, 0.6803851127624512)\n",
      "887/887 [==============================] - 5s 5ms/step - loss: 0.7223 - accuracy: 0.6804\n",
      "Results:  nadam   11   [0.7223225831985474, 0.6803851127624512]\n",
      "Epoch 1/5\n",
      "414/414 [==============================] - 8s 15ms/step - loss: 0.5466 - accuracy: 0.7732 - val_loss: 0.7568 - val_accuracy: 0.6781\n",
      "\n",
      "Epoch 00001: val_accuracy improved from -inf to 0.67808, saving model to ./songs/experiment_11\\checkpoint_11\n",
      "Epoch 2/5\n",
      "414/414 [==============================] - 6s 14ms/step - loss: 0.5260 - accuracy: 0.7777 - val_loss: 0.7703 - val_accuracy: 0.6772\n",
      "\n",
      "Epoch 00002: val_accuracy did not improve from 0.67808\n",
      "Epoch 3/5\n",
      "414/414 [==============================] - 6s 13ms/step - loss: 0.5153 - accuracy: 0.7848 - val_loss: 0.7715 - val_accuracy: 0.6763\n",
      "\n",
      "Epoch 00003: val_accuracy did not improve from 0.67808\n",
      "Epoch 4/5\n",
      "414/414 [==============================] - 6s 13ms/step - loss: 0.5043 - accuracy: 0.7905 - val_loss: 0.7791 - val_accuracy: 0.6670\n",
      "\n",
      "Epoch 00004: val_accuracy did not improve from 0.67808\n"
     ]
    },
    {
     "name": "stderr",
     "output_type": "stream",
     "text": [
      "WARNING:absl:Found untraced functions such as lstm_cell_6_layer_call_and_return_conditional_losses, lstm_cell_6_layer_call_fn, lstm_cell_6_layer_call_fn, lstm_cell_6_layer_call_and_return_conditional_losses, lstm_cell_6_layer_call_and_return_conditional_losses while saving (showing 5 of 5). These functions will not be directly callable after loading.\n"
     ]
    },
    {
     "name": "stdout",
     "output_type": "stream",
     "text": [
      "INFO:tensorflow:Assets written to: ./songs/experiment_12\\assets\n"
     ]
    },
    {
     "name": "stderr",
     "output_type": "stream",
     "text": [
      "INFO:tensorflow:Assets written to: ./songs/experiment_12\\assets\n"
     ]
    },
    {
     "name": "stdout",
     "output_type": "stream",
     "text": [
      "ExperimentId: 12\n"
     ]
    },
    {
     "data": {
      "image/png": "[encoded data removed]",
      "text/plain": [
       "<Figure size 432x288 with 1 Axes>"
      ]
     },
     "metadata": {
      "needs_background": "light"
     },
     "output_type": "display_data"
    },
    {
     "data": {
      "image/png": "[encoded data removed]",
      "text/plain": [
       "<Figure size 432x288 with 1 Axes>"
      ]
     },
     "metadata": {
      "needs_background": "light"
     },
     "output_type": "display_data"
    },
    {
     "name": "stdout",
     "output_type": "stream",
     "text": [
      "887/887 [==============================] - 5s 5ms/step - loss: 0.7466 - accuracy: 0.6790\n",
      "(0.7465694546699524, 0.679009735584259)\n",
      "887/887 [==============================] - 5s 5ms/step - loss: 0.7466 - accuracy: 0.6790\n",
      "Results:  adamax   12   [0.7465694546699524, 0.679009735584259]\n",
      "Epoch 1/5\n",
      "414/414 [==============================] - 8s 14ms/step - loss: 0.5168 - accuracy: 0.7844 - val_loss: 0.7566 - val_accuracy: 0.6720\n",
      "\n",
      "Epoch 00001: val_accuracy improved from -inf to 0.67203, saving model to ./songs/experiment_12\\checkpoint_12\n",
      "Epoch 2/5\n",
      "414/414 [==============================] - 5s 13ms/step - loss: 0.5254 - accuracy: 0.7807 - val_loss: 0.7615 - val_accuracy: 0.6777\n",
      "\n",
      "Epoch 00002: val_accuracy improved from 0.67203 to 0.67770, saving model to ./songs/experiment_12\\checkpoint_12\n",
      "Epoch 3/5\n",
      "414/414 [==============================] - 5s 13ms/step - loss: 0.5159 - accuracy: 0.7858 - val_loss: 0.7588 - val_accuracy: 0.6772\n",
      "\n",
      "Epoch 00003: val_accuracy did not improve from 0.67770\n",
      "Epoch 4/5\n",
      "414/414 [==============================] - 5s 13ms/step - loss: 0.5178 - accuracy: 0.7850 - val_loss: 0.7584 - val_accuracy: 0.6754\n",
      "\n",
      "Epoch 00004: val_accuracy did not improve from 0.67770\n",
      "Epoch 5/5\n",
      "414/414 [==============================] - 5s 13ms/step - loss: 0.5190 - accuracy: 0.7843 - val_loss: 0.7610 - val_accuracy: 0.6764\n",
      "\n",
      "Epoch 00005: val_accuracy did not improve from 0.67770\n"
     ]
    },
    {
     "name": "stderr",
     "output_type": "stream",
     "text": [
      "WARNING:absl:Found untraced functions such as lstm_cell_6_layer_call_and_return_conditional_losses, lstm_cell_6_layer_call_fn, lstm_cell_6_layer_call_fn, lstm_cell_6_layer_call_and_return_conditional_losses, lstm_cell_6_layer_call_and_return_conditional_losses while saving (showing 5 of 5). These functions will not be directly callable after loading.\n"
     ]
    },
    {
     "name": "stdout",
     "output_type": "stream",
     "text": [
      "INFO:tensorflow:Assets written to: ./songs/experiment_13\\assets\n"
     ]
    },
    {
     "name": "stderr",
     "output_type": "stream",
     "text": [
      "INFO:tensorflow:Assets written to: ./songs/experiment_13\\assets\n"
     ]
    },
    {
     "name": "stdout",
     "output_type": "stream",
     "text": [
      "ExperimentId: 13\n"
     ]
    },
    {
     "data": {
      "image/png": "[encoded data removed]",
      "text/plain": [
       "<Figure size 432x288 with 1 Axes>"
      ]
     },
     "metadata": {
      "needs_background": "light"
     },
     "output_type": "display_data"
    },
    {
     "data": {
      "image/png": "[encoded data removed]",
      "text/plain": [
       "<Figure size 432x288 with 1 Axes>"
      ]
     },
     "metadata": {
      "needs_background": "light"
     },
     "output_type": "display_data"
    },
    {
     "name": "stdout",
     "output_type": "stream",
     "text": [
      "887/887 [==============================] - 5s 6ms/step - loss: 0.7499 - accuracy: 0.6800\n",
      "(0.7498562335968018, 0.6799619197845459)\n",
      "887/887 [==============================] - 5s 5ms/step - loss: 0.7499 - accuracy: 0.6800\n",
      "Results:  adagrad   13   [0.7498562335968018, 0.6799619197845459]\n",
      "Epoch 1/5\n",
      "414/414 [==============================] - 8s 16ms/step - loss: 0.5169 - accuracy: 0.7868 - val_loss: 0.7607 - val_accuracy: 0.6772\n",
      "\n",
      "Epoch 00001: val_accuracy improved from -inf to 0.67717, saving model to ./songs/experiment_13\\checkpoint_13\n",
      "Epoch 2/5\n",
      "414/414 [==============================] - 6s 14ms/step - loss: 0.5126 - accuracy: 0.7896 - val_loss: 0.7602 - val_accuracy: 0.6772\n",
      "\n",
      "Epoch 00002: val_accuracy did not improve from 0.67717\n",
      "Epoch 3/5\n",
      "414/414 [==============================] - 6s 14ms/step - loss: 0.5164 - accuracy: 0.7864 - val_loss: 0.7601 - val_accuracy: 0.6773\n",
      "\n",
      "Epoch 00003: val_accuracy improved from 0.67717 to 0.67732, saving model to ./songs/experiment_13\\checkpoint_13\n",
      "Epoch 4/5\n",
      "414/414 [==============================] - 6s 14ms/step - loss: 0.5189 - accuracy: 0.7857 - val_loss: 0.7600 - val_accuracy: 0.6777\n",
      "\n",
      "Epoch 00004: val_accuracy improved from 0.67732 to 0.67770, saving model to ./songs/experiment_13\\checkpoint_13\n",
      "Epoch 5/5\n",
      "414/414 [==============================] - 6s 14ms/step - loss: 0.5164 - accuracy: 0.7856 - val_loss: 0.7602 - val_accuracy: 0.6777\n",
      "\n",
      "Epoch 00005: val_accuracy did not improve from 0.67770\n"
     ]
    },
    {
     "name": "stderr",
     "output_type": "stream",
     "text": [
      "WARNING:absl:Found untraced functions such as lstm_cell_6_layer_call_and_return_conditional_losses, lstm_cell_6_layer_call_fn, lstm_cell_6_layer_call_fn, lstm_cell_6_layer_call_and_return_conditional_losses, lstm_cell_6_layer_call_and_return_conditional_losses while saving (showing 5 of 5). These functions will not be directly callable after loading.\n"
     ]
    },
    {
     "name": "stdout",
     "output_type": "stream",
     "text": [
      "INFO:tensorflow:Assets written to: ./songs/experiment_14\\assets\n"
     ]
    },
    {
     "name": "stderr",
     "output_type": "stream",
     "text": [
      "INFO:tensorflow:Assets written to: ./songs/experiment_14\\assets\n"
     ]
    },
    {
     "name": "stdout",
     "output_type": "stream",
     "text": [
      "ExperimentId: 14\n"
     ]
    },
    {
     "data": {
      "image/png": "[encoded data removed]",
      "text/plain": [
       "<Figure size 432x288 with 1 Axes>"
      ]
     },
     "metadata": {
      "needs_background": "light"
     },
     "output_type": "display_data"
    },
    {
     "data": {
      "image/png": "[encoded data removed]",
      "text/plain": [
       "<Figure size 432x288 with 1 Axes>"
      ]
     },
     "metadata": {
      "needs_background": "light"
     },
     "output_type": "display_data"
    },
    {
     "name": "stdout",
     "output_type": "stream",
     "text": [
      "887/887 [==============================] - 5s 5ms/step - loss: 0.7488 - accuracy: 0.6795\n",
      "(0.748822808265686, 0.6794682145118713)\n",
      "887/887 [==============================] - 5s 5ms/step - loss: 0.7488 - accuracy: 0.6795\n",
      "Results:  adadelta   14   [0.748822808265686, 0.6794682145118713]\n",
      "Epoch 1/5\n",
      "414/414 [==============================] - 12s 22ms/step - loss: 0.5734 - accuracy: 0.7568 - val_loss: 0.7445 - val_accuracy: 0.6773\n",
      "\n",
      "Epoch 00001: val_accuracy improved from -inf to 0.67732, saving model to ./songs/experiment_14\\checkpoint_14\n",
      "Epoch 2/5\n",
      "414/414 [==============================] - 9s 21ms/step - loss: 0.5491 - accuracy: 0.7667 - val_loss: 0.7564 - val_accuracy: 0.6623\n",
      "\n",
      "Epoch 00002: val_accuracy did not improve from 0.67732\n",
      "Epoch 3/5\n",
      "414/414 [==============================] - 8s 20ms/step - loss: 0.5327 - accuracy: 0.7754 - val_loss: 0.7615 - val_accuracy: 0.6485\n",
      "\n",
      "Epoch 00003: val_accuracy did not improve from 0.67732\n",
      "Epoch 4/5\n",
      "414/414 [==============================] - 8s 20ms/step - loss: 0.5157 - accuracy: 0.7833 - val_loss: 0.8305 - val_accuracy: 0.6785\n",
      "\n",
      "Epoch 00004: val_accuracy improved from 0.67732 to 0.67853, saving model to ./songs/experiment_14\\checkpoint_14\n",
      "Epoch 5/5\n",
      "414/414 [==============================] - 8s 20ms/step - loss: 0.5077 - accuracy: 0.7880 - val_loss: 0.8249 - val_accuracy: 0.6649\n",
      "\n",
      "Epoch 00005: val_accuracy did not improve from 0.67853\n"
     ]
    },
    {
     "name": "stderr",
     "output_type": "stream",
     "text": [
      "WARNING:absl:Found untraced functions such as lstm_cell_6_layer_call_and_return_conditional_losses, lstm_cell_6_layer_call_fn, lstm_cell_6_layer_call_fn, lstm_cell_6_layer_call_and_return_conditional_losses, lstm_cell_6_layer_call_and_return_conditional_losses while saving (showing 5 of 5). These functions will not be directly callable after loading.\n"
     ]
    },
    {
     "name": "stdout",
     "output_type": "stream",
     "text": [
      "INFO:tensorflow:Assets written to: ./songs/experiment_15\\assets\n"
     ]
    },
    {
     "name": "stderr",
     "output_type": "stream",
     "text": [
      "INFO:tensorflow:Assets written to: ./songs/experiment_15\\assets\n"
     ]
    },
    {
     "name": "stdout",
     "output_type": "stream",
     "text": [
      "ExperimentId: 15\n"
     ]
    },
    {
     "data": {
      "image/png": "[encoded data removed]",
      "text/plain": [
       "<Figure size 432x288 with 1 Axes>"
      ]
     },
     "metadata": {
      "needs_background": "light"
     },
     "output_type": "display_data"
    },
    {
     "data": {
      "image/png": "[encoded data removed]",
      "text/plain": [
       "<Figure size 432x288 with 1 Axes>"
      ]
     },
     "metadata": {
      "needs_background": "light"
     },
     "output_type": "display_data"
    },
    {
     "name": "stdout",
     "output_type": "stream",
     "text": [
      "887/887 [==============================] - 5s 5ms/step - loss: 0.8192 - accuracy: 0.6676\n",
      "(0.8192371129989624, 0.6675835847854614)\n",
      "887/887 [==============================] - 5s 5ms/step - loss: 0.8192 - accuracy: 0.6676\n",
      "Results:  rmsprop   15   [0.8192371129989624, 0.6675835847854614]\n"
     ]
    }
   ],
   "source": [
    "model = Sequential([\n",
    "    Embedding(VOCAB_SIZE, EMBEDDING_DIM, input_length=MAX_LENGTH),\n",
    "    LSTM(32), \n",
    "    Dense(24, activation='relu'),\n",
    "    Dense(3, activation='softmax')\n",
    "])\n",
    "for optimizer in ['adam', 'nadam', 'adamax', 'adagrad', 'adadelta', 'rmsprop']:\n",
    "    model.compile(loss='categorical_crossentropy', optimizer=optimizer, metrics=['accuracy'])\n",
    "    \n",
    "    model, exp_id = experiment_controller.run_experiment(model, training_pd, training_lbls)\n",
    "\n",
    "    print(\"ExperimentId:\", exp_id)\n",
    "    experiment_controller.plot_model_loss()\n",
    "    experiment_controller.plot_model_loss(\"accuracy\")\n",
    "    print(experiment_controller.test(testing_pd, testing_lbls))\n",
    "    res = model.evaluate(testing_pd, testing_lbls)\n",
    "    print(\"Results: \", optimizer, \" \", exp_id, \" \", res)"
   ]
  },
  {
   "cell_type": "markdown",
   "id": "41222062",
   "metadata": {},
   "source": [
    "**Adam parece ser el optimizador que mejor minimiza las funcion de costo para este problema**"
   ]
  },
  {
   "cell_type": "code",
   "execution_count": 77,
   "id": "0b5f64b2-99b2-4a69-981f-6c2336d22577",
   "metadata": {},
   "outputs": [
    {
     "name": "stdout",
     "output_type": "stream",
     "text": [
      "Model: \"sequential_23\"\n",
      "_________________________________________________________________\n",
      "Layer (type)                 Output Shape              Param #   \n",
      "=================================================================\n",
      "embedding_27 (Embedding)     (None, 128, 32)           320000    \n",
      "_________________________________________________________________\n",
      "module_wrapper_17 (ModuleWra (None, 64)                16640     \n",
      "_________________________________________________________________\n",
      "dense_47 (Dense)             (None, 128)               8320      \n",
      "_________________________________________________________________\n",
      "dropout_17 (Dropout)         (None, 128)               0         \n",
      "_________________________________________________________________\n",
      "dense_48 (Dense)             (None, 3)                 387       \n",
      "=================================================================\n",
      "Total params: 345,347\n",
      "Trainable params: 345,347\n",
      "Non-trainable params: 0\n",
      "_________________________________________________________________\n",
      "WARNING:tensorflow:Model failed to serialize as JSON. Ignoring... Layer ModuleWrapper has arguments in `__init__` and therefore must override `get_config`.\n"
     ]
    },
    {
     "name": "stderr",
     "output_type": "stream",
     "text": [
      "WARNING:tensorflow:Model failed to serialize as JSON. Ignoring... Layer ModuleWrapper has arguments in `__init__` and therefore must override `get_config`.\n"
     ]
    },
    {
     "name": "stdout",
     "output_type": "stream",
     "text": [
      "Epoch 1/5\n",
      "414/414 [==============================] - 13s 24ms/step - loss: 0.9108 - accuracy: 0.5690 - val_loss: 0.7661 - val_accuracy: 0.6469\n",
      "\n",
      "Epoch 00001: val_accuracy improved from -inf to 0.64687, saving model to ./songs/experiment_27\\checkpoint_27\n",
      "Epoch 2/5\n",
      "414/414 [==============================] - 9s 22ms/step - loss: 0.7054 - accuracy: 0.6846 - val_loss: 0.7209 - val_accuracy: 0.6751\n",
      "\n",
      "Epoch 00002: val_accuracy improved from 0.64687 to 0.67513, saving model to ./songs/experiment_27\\checkpoint_27\n",
      "Epoch 3/5\n",
      "414/414 [==============================] - 9s 21ms/step - loss: 0.6593 - accuracy: 0.7084 - val_loss: 0.7103 - val_accuracy: 0.6835\n",
      "\n",
      "Epoch 00003: val_accuracy improved from 0.67513 to 0.68352, saving model to ./songs/experiment_27\\checkpoint_27\n",
      "Epoch 4/5\n",
      "414/414 [==============================] - 9s 21ms/step - loss: 0.6268 - accuracy: 0.7273 - val_loss: 0.7445 - val_accuracy: 0.6704\n",
      "\n",
      "Epoch 00004: val_accuracy did not improve from 0.68352\n",
      "Epoch 5/5\n",
      "414/414 [==============================] - 9s 22ms/step - loss: 0.6021 - accuracy: 0.7336 - val_loss: 0.7259 - val_accuracy: 0.6795\n",
      "\n",
      "Epoch 00005: val_accuracy did not improve from 0.68352\n"
     ]
    },
    {
     "name": "stderr",
     "output_type": "stream",
     "text": [
      "WARNING:absl:Found untraced functions such as lstm_cell_58_layer_call_and_return_conditional_losses, lstm_cell_58_layer_call_fn, lstm_cell_59_layer_call_and_return_conditional_losses, lstm_cell_59_layer_call_fn, lstm_cell_58_layer_call_fn while saving (showing 5 of 10). These functions will not be directly callable after loading.\n"
     ]
    },
    {
     "name": "stdout",
     "output_type": "stream",
     "text": [
      "INFO:tensorflow:Assets written to: ./songs/experiment_28\\assets\n"
     ]
    },
    {
     "name": "stderr",
     "output_type": "stream",
     "text": [
      "INFO:tensorflow:Assets written to: ./songs/experiment_28\\assets\n"
     ]
    },
    {
     "name": "stdout",
     "output_type": "stream",
     "text": [
      "ExperimentId: 28\n"
     ]
    },
    {
     "data": {
      "image/png": "[encoded data removed]",
      "text/plain": [
       "<Figure size 432x288 with 1 Axes>"
      ]
     },
     "metadata": {
      "needs_background": "light"
     },
     "output_type": "display_data"
    },
    {
     "data": {
      "image/png": "[encoded data removed]",
      "text/plain": [
       "<Figure size 432x288 with 1 Axes>"
      ]
     },
     "metadata": {
      "needs_background": "light"
     },
     "output_type": "display_data"
    },
    {
     "name": "stdout",
     "output_type": "stream",
     "text": [
      "887/887 [==============================] - 7s 8ms/step - loss: 0.7206 - accuracy: 0.6802\n",
      "(0.7205769419670105, 0.6801735162734985)\n"
     ]
    }
   ],
   "source": [
    "model = Sequential([\n",
    "    Embedding(VOCAB_SIZE, EMBEDDING_DIM, input_length=MAX_LENGTH),\n",
    "    tf.keras.layers.Bidirectional(tf.keras.layers.LSTM(32, kernel_initializer=\"glorot_normal\", dropout=0.5, activation=\"tanh\", recurrent_regularizer=L1L2(l1=0.01, l2=0.01))), \n",
    "    Dense(128, activation='relu', kernel_initializer=GlorotNormal()),\n",
    "    Dropout(0.5),\n",
    "    Dense(3, activation='softmax')\n",
    "])\n",
    "\n",
    "model.compile(loss='categorical_crossentropy',optimizer='adam',metrics=['accuracy'])\n",
    "model.summary()\n",
    "model, exp_id = experiment_controller.run_experiment(model, training_pd, training_lbls)\n",
    "\n",
    "print(\"ExperimentId:\", exp_id)\n",
    "experiment_controller.plot_model_loss()\n",
    "experiment_controller.plot_model_loss(\"accuracy\")\n",
    "print(experiment_controller.test(testing_pd, testing_lbls))"
   ]
  },
  {
   "cell_type": "code",
   "execution_count": null,
   "id": "15433028-d461-417a-9368-d2d4566ebcde",
   "metadata": {},
   "outputs": [],
   "source": [
    "x = Input(shape=(MAX_LENGTH,))\n",
    "z = Input(shape=(1,))\n",
    "\n",
    "x = Embedding(VOCAB_SIZE, EMBEDDING_DIM)(x)\n",
    "x = tf.keras.layers.Bidirectional(tf.keras.layers.LSTM(32, kernel_initializer=\"glorot_normal\", dropout=0.5, activation=\"tanh\", recurrent_regularizer=L1L2(l1=0.01, l2=0.01)))(x)\n",
    "y = Concatenate(axis = 1)([x, z])\n",
    "x = Dense(128, activation='relu', kernel_initializer=GlorotNormal())(y)\n",
    "x = Dropout(0.5)(y)\n",
    "output = Dense(3, activation='softmax')(y)\n",
    "\n",
    "model = Model(inputs = x, outputs = output)\n",
    "\n",
    "model.compile(loss='categorical_crossentropy',optimizer='adam',metrics=['accuracy'])\n",
    "model.summary()\n",
    "model, exp_id = experiment_controller.run_experiment(model, training_pd, training_lbls)\n",
    "\n",
    "print(\"ExperimentId:\", exp_id)\n",
    "experiment_controller.plot_model_loss()\n",
    "experiment_controller.plot_model_loss(\"accuracy\")\n",
    "print(experiment_controller.test(testing_pd, testing_lbls))"
   ]
  },
  {
   "cell_type": "code",
   "execution_count": 73,
   "id": "5ccffd41",
   "metadata": {},
   "outputs": [
    {
     "data": {
      "text/html": [
       "<div>\n",
       "<style scoped>\n",
       "    .dataframe tbody tr th:only-of-type {\n",
       "        vertical-align: middle;\n",
       "    }\n",
       "\n",
       "    .dataframe tbody tr th {\n",
       "        vertical-align: top;\n",
       "    }\n",
       "\n",
       "    .dataframe thead th {\n",
       "        text-align: right;\n",
       "    }\n",
       "</style>\n",
       "<table border=\"1\" class=\"dataframe\">\n",
       "  <thead>\n",
       "    <tr style=\"text-align: right;\">\n",
       "      <th></th>\n",
       "      <th>ExperimentID</th>\n",
       "      <th>Datetime</th>\n",
       "      <th>train_accuracy</th>\n",
       "      <th>val_accuracy</th>\n",
       "    </tr>\n",
       "  </thead>\n",
       "  <tbody>\n",
       "    <tr>\n",
       "      <th>1</th>\n",
       "      <td>2</td>\n",
       "      <td>20210924-03:15:59</td>\n",
       "      <td>0.724650</td>\n",
       "      <td>0.681100</td>\n",
       "    </tr>\n",
       "    <tr>\n",
       "      <th>24</th>\n",
       "      <td>25</td>\n",
       "      <td>20210924-15:49:14</td>\n",
       "      <td>0.719209</td>\n",
       "      <td>0.679891</td>\n",
       "    </tr>\n",
       "    <tr>\n",
       "      <th>21</th>\n",
       "      <td>22</td>\n",
       "      <td>20210924-15:34:30</td>\n",
       "      <td>0.764911</td>\n",
       "      <td>0.679362</td>\n",
       "    </tr>\n",
       "    <tr>\n",
       "      <th>13</th>\n",
       "      <td>14</td>\n",
       "      <td>20210924-14:38:54</td>\n",
       "      <td>0.785316</td>\n",
       "      <td>0.677700</td>\n",
       "    </tr>\n",
       "    <tr>\n",
       "      <th>12</th>\n",
       "      <td>13</td>\n",
       "      <td>20210924-14:38:08</td>\n",
       "      <td>0.785505</td>\n",
       "      <td>0.676415</td>\n",
       "    </tr>\n",
       "    <tr>\n",
       "      <th>23</th>\n",
       "      <td>24</td>\n",
       "      <td>20210924-15:41:34</td>\n",
       "      <td>0.699579</td>\n",
       "      <td>0.674299</td>\n",
       "    </tr>\n",
       "    <tr>\n",
       "      <th>0</th>\n",
       "      <td>1</td>\n",
       "      <td>20210924-03:07:48</td>\n",
       "      <td>0.737157</td>\n",
       "      <td>0.673846</td>\n",
       "    </tr>\n",
       "    <tr>\n",
       "      <th>8</th>\n",
       "      <td>9</td>\n",
       "      <td>20210924-14:26:18</td>\n",
       "      <td>0.779251</td>\n",
       "      <td>0.669160</td>\n",
       "    </tr>\n",
       "    <tr>\n",
       "      <th>19</th>\n",
       "      <td>20</td>\n",
       "      <td>20210924-15:27:59</td>\n",
       "      <td>0.781764</td>\n",
       "      <td>0.668783</td>\n",
       "    </tr>\n",
       "    <tr>\n",
       "      <th>22</th>\n",
       "      <td>23</td>\n",
       "      <td>20210924-15:36:15</td>\n",
       "      <td>0.755144</td>\n",
       "      <td>0.668178</td>\n",
       "    </tr>\n",
       "    <tr>\n",
       "      <th>11</th>\n",
       "      <td>12</td>\n",
       "      <td>20210924-14:37:26</td>\n",
       "      <td>0.788717</td>\n",
       "      <td>0.667045</td>\n",
       "    </tr>\n",
       "    <tr>\n",
       "      <th>14</th>\n",
       "      <td>15</td>\n",
       "      <td>20210924-14:39:53</td>\n",
       "      <td>0.784447</td>\n",
       "      <td>0.664929</td>\n",
       "    </tr>\n",
       "    <tr>\n",
       "      <th>5</th>\n",
       "      <td>6</td>\n",
       "      <td>20210924-13:39:13</td>\n",
       "      <td>0.773300</td>\n",
       "      <td>0.663266</td>\n",
       "    </tr>\n",
       "    <tr>\n",
       "      <th>18</th>\n",
       "      <td>19</td>\n",
       "      <td>20210924-15:25:19</td>\n",
       "      <td>0.795556</td>\n",
       "      <td>0.662208</td>\n",
       "    </tr>\n",
       "    <tr>\n",
       "      <th>20</th>\n",
       "      <td>21</td>\n",
       "      <td>20210924-15:32:43</td>\n",
       "      <td>0.784674</td>\n",
       "      <td>0.661755</td>\n",
       "    </tr>\n",
       "    <tr>\n",
       "      <th>16</th>\n",
       "      <td>17</td>\n",
       "      <td>20210924-15:18:17</td>\n",
       "      <td>0.812844</td>\n",
       "      <td>0.659185</td>\n",
       "    </tr>\n",
       "    <tr>\n",
       "      <th>7</th>\n",
       "      <td>8</td>\n",
       "      <td>20210924-14:13:49</td>\n",
       "      <td>0.804927</td>\n",
       "      <td>0.658656</td>\n",
       "    </tr>\n",
       "    <tr>\n",
       "      <th>15</th>\n",
       "      <td>16</td>\n",
       "      <td>20210924-15:11:33</td>\n",
       "      <td>0.816301</td>\n",
       "      <td>0.653518</td>\n",
       "    </tr>\n",
       "    <tr>\n",
       "      <th>10</th>\n",
       "      <td>11</td>\n",
       "      <td>20210924-14:36:47</td>\n",
       "      <td>0.785543</td>\n",
       "      <td>0.651704</td>\n",
       "    </tr>\n",
       "    <tr>\n",
       "      <th>9</th>\n",
       "      <td>10</td>\n",
       "      <td>20210924-14:35:43</td>\n",
       "      <td>0.780442</td>\n",
       "      <td>0.651251</td>\n",
       "    </tr>\n",
       "    <tr>\n",
       "      <th>3</th>\n",
       "      <td>4</td>\n",
       "      <td>20210924-03:41:42</td>\n",
       "      <td>0.792722</td>\n",
       "      <td>0.647472</td>\n",
       "    </tr>\n",
       "    <tr>\n",
       "      <th>2</th>\n",
       "      <td>3</td>\n",
       "      <td>20210924-03:31:41</td>\n",
       "      <td>0.789284</td>\n",
       "      <td>0.637799</td>\n",
       "    </tr>\n",
       "    <tr>\n",
       "      <th>25</th>\n",
       "      <td>26</td>\n",
       "      <td>20210924-16:27:28</td>\n",
       "      <td>0.639952</td>\n",
       "      <td>0.627976</td>\n",
       "    </tr>\n",
       "    <tr>\n",
       "      <th>17</th>\n",
       "      <td>18</td>\n",
       "      <td>20210924-15:23:29</td>\n",
       "      <td>0.816018</td>\n",
       "      <td>0.624726</td>\n",
       "    </tr>\n",
       "    <tr>\n",
       "      <th>4</th>\n",
       "      <td>5</td>\n",
       "      <td>20210924-03:48:17</td>\n",
       "      <td>0.822460</td>\n",
       "      <td>0.552482</td>\n",
       "    </tr>\n",
       "    <tr>\n",
       "      <th>6</th>\n",
       "      <td>7</td>\n",
       "      <td>20210924-13:51:52</td>\n",
       "      <td>0.619736</td>\n",
       "      <td>0.519761</td>\n",
       "    </tr>\n",
       "  </tbody>\n",
       "</table>\n",
       "</div>"
      ],
      "text/plain": [
       "    ExperimentID           Datetime  train_accuracy  val_accuracy\n",
       "1              2  20210924-03:15:59        0.724650      0.681100\n",
       "24            25  20210924-15:49:14        0.719209      0.679891\n",
       "21            22  20210924-15:34:30        0.764911      0.679362\n",
       "13            14  20210924-14:38:54        0.785316      0.677700\n",
       "12            13  20210924-14:38:08        0.785505      0.676415\n",
       "23            24  20210924-15:41:34        0.699579      0.674299\n",
       "0              1  20210924-03:07:48        0.737157      0.673846\n",
       "8              9  20210924-14:26:18        0.779251      0.669160\n",
       "19            20  20210924-15:27:59        0.781764      0.668783\n",
       "22            23  20210924-15:36:15        0.755144      0.668178\n",
       "11            12  20210924-14:37:26        0.788717      0.667045\n",
       "14            15  20210924-14:39:53        0.784447      0.664929\n",
       "5              6  20210924-13:39:13        0.773300      0.663266\n",
       "18            19  20210924-15:25:19        0.795556      0.662208\n",
       "20            21  20210924-15:32:43        0.784674      0.661755\n",
       "16            17  20210924-15:18:17        0.812844      0.659185\n",
       "7              8  20210924-14:13:49        0.804927      0.658656\n",
       "15            16  20210924-15:11:33        0.816301      0.653518\n",
       "10            11  20210924-14:36:47        0.785543      0.651704\n",
       "9             10  20210924-14:35:43        0.780442      0.651251\n",
       "3              4  20210924-03:41:42        0.792722      0.647472\n",
       "2              3  20210924-03:31:41        0.789284      0.637799\n",
       "25            26  20210924-16:27:28        0.639952      0.627976\n",
       "17            18  20210924-15:23:29        0.816018      0.624726\n",
       "4              5  20210924-03:48:17        0.822460      0.552482\n",
       "6              7  20210924-13:51:52        0.619736      0.519761"
      ]
     },
     "execution_count": 73,
     "metadata": {},
     "output_type": "execute_result"
    }
   ],
   "source": [
    "experiment_controller.summary_experiments().sort_values(f\"val_accuracy\", ascending=False)"
   ]
  },
  {
   "cell_type": "code",
   "execution_count": 90,
   "id": "2eaed81f",
   "metadata": {},
   "outputs": [
    {
     "data": {
      "text/html": [
       "<div>\n",
       "<style scoped>\n",
       "    .dataframe tbody tr th:only-of-type {\n",
       "        vertical-align: middle;\n",
       "    }\n",
       "\n",
       "    .dataframe tbody tr th {\n",
       "        vertical-align: top;\n",
       "    }\n",
       "\n",
       "    .dataframe thead th {\n",
       "        text-align: right;\n",
       "    }\n",
       "</style>\n",
       "<table border=\"1\" class=\"dataframe\">\n",
       "  <thead>\n",
       "    <tr style=\"text-align: right;\">\n",
       "      <th></th>\n",
       "      <th>ExperimentID</th>\n",
       "      <th>Datetime</th>\n",
       "      <th>test_loss</th>\n",
       "      <th>test_accuracy</th>\n",
       "    </tr>\n",
       "  </thead>\n",
       "  <tbody>\n",
       "    <tr>\n",
       "      <th>16</th>\n",
       "      <td>20210924-15:11:41</td>\n",
       "      <td>0.690468</td>\n",
       "      <td>0.691882</td>\n",
       "      <td>NaN</td>\n",
       "    </tr>\n",
       "    <tr>\n",
       "      <th>21</th>\n",
       "      <td>20210924-15:32:50</td>\n",
       "      <td>0.690823</td>\n",
       "      <td>0.688990</td>\n",
       "      <td>NaN</td>\n",
       "    </tr>\n",
       "    <tr>\n",
       "      <th>18</th>\n",
       "      <td>20210924-15:23:37</td>\n",
       "      <td>0.701885</td>\n",
       "      <td>0.688461</td>\n",
       "      <td>NaN</td>\n",
       "    </tr>\n",
       "    <tr>\n",
       "      <th>17</th>\n",
       "      <td>20210924-15:18:24</td>\n",
       "      <td>0.699857</td>\n",
       "      <td>0.688285</td>\n",
       "      <td>NaN</td>\n",
       "    </tr>\n",
       "    <tr>\n",
       "      <th>8</th>\n",
       "      <td>20210924-14:13:56</td>\n",
       "      <td>0.691638</td>\n",
       "      <td>0.688038</td>\n",
       "      <td>NaN</td>\n",
       "    </tr>\n",
       "    <tr>\n",
       "      <th>25</th>\n",
       "      <td>20210924-15:49:21</td>\n",
       "      <td>0.715231</td>\n",
       "      <td>0.686627</td>\n",
       "      <td>NaN</td>\n",
       "    </tr>\n",
       "    <tr>\n",
       "      <th>20</th>\n",
       "      <td>20210924-15:28:06</td>\n",
       "      <td>0.702644</td>\n",
       "      <td>0.684970</td>\n",
       "      <td>NaN</td>\n",
       "    </tr>\n",
       "    <tr>\n",
       "      <th>2</th>\n",
       "      <td>20210924-03:16:49</td>\n",
       "      <td>0.724557</td>\n",
       "      <td>0.684159</td>\n",
       "      <td>NaN</td>\n",
       "    </tr>\n",
       "    <tr>\n",
       "      <th>10</th>\n",
       "      <td>20210924-14:35:49</td>\n",
       "      <td>0.721120</td>\n",
       "      <td>0.683665</td>\n",
       "      <td>NaN</td>\n",
       "    </tr>\n",
       "    <tr>\n",
       "      <th>11</th>\n",
       "      <td>20210924-14:36:52</td>\n",
       "      <td>0.722323</td>\n",
       "      <td>0.680385</td>\n",
       "      <td>NaN</td>\n",
       "    </tr>\n",
       "    <tr>\n",
       "      <th>28</th>\n",
       "      <td>20210924-18:40:38</td>\n",
       "      <td>0.720577</td>\n",
       "      <td>0.680174</td>\n",
       "      <td>NaN</td>\n",
       "    </tr>\n",
       "    <tr>\n",
       "      <th>13</th>\n",
       "      <td>20210924-14:38:13</td>\n",
       "      <td>0.749856</td>\n",
       "      <td>0.679962</td>\n",
       "      <td>NaN</td>\n",
       "    </tr>\n",
       "    <tr>\n",
       "      <th>14</th>\n",
       "      <td>20210924-14:38:59</td>\n",
       "      <td>0.748823</td>\n",
       "      <td>0.679468</td>\n",
       "      <td>NaN</td>\n",
       "    </tr>\n",
       "    <tr>\n",
       "      <th>12</th>\n",
       "      <td>20210924-14:37:31</td>\n",
       "      <td>0.746569</td>\n",
       "      <td>0.679010</td>\n",
       "      <td>NaN</td>\n",
       "    </tr>\n",
       "    <tr>\n",
       "      <th>22</th>\n",
       "      <td>20210924-15:34:37</td>\n",
       "      <td>0.757232</td>\n",
       "      <td>0.678622</td>\n",
       "      <td>NaN</td>\n",
       "    </tr>\n",
       "    <tr>\n",
       "      <th>24</th>\n",
       "      <td>20210924-15:41:40</td>\n",
       "      <td>0.720533</td>\n",
       "      <td>0.676541</td>\n",
       "      <td>NaN</td>\n",
       "    </tr>\n",
       "    <tr>\n",
       "      <th>6</th>\n",
       "      <td>20210924-13:41:28</td>\n",
       "      <td>0.724492</td>\n",
       "      <td>0.676188</td>\n",
       "      <td>NaN</td>\n",
       "    </tr>\n",
       "    <tr>\n",
       "      <th>1</th>\n",
       "      <td>20210924-03:08:00</td>\n",
       "      <td>0.736626</td>\n",
       "      <td>0.675448</td>\n",
       "      <td>NaN</td>\n",
       "    </tr>\n",
       "    <tr>\n",
       "      <th>23</th>\n",
       "      <td>20210924-15:36:22</td>\n",
       "      <td>0.740124</td>\n",
       "      <td>0.669065</td>\n",
       "      <td>NaN</td>\n",
       "    </tr>\n",
       "    <tr>\n",
       "      <th>9</th>\n",
       "      <td>20210924-14:26:23</td>\n",
       "      <td>0.800538</td>\n",
       "      <td>0.668430</td>\n",
       "      <td>NaN</td>\n",
       "    </tr>\n",
       "    <tr>\n",
       "      <th>15</th>\n",
       "      <td>20210924-14:39:58</td>\n",
       "      <td>0.819237</td>\n",
       "      <td>0.667584</td>\n",
       "      <td>NaN</td>\n",
       "    </tr>\n",
       "    <tr>\n",
       "      <th>19</th>\n",
       "      <td>20210924-15:25:26</td>\n",
       "      <td>0.818308</td>\n",
       "      <td>0.662823</td>\n",
       "      <td>NaN</td>\n",
       "    </tr>\n",
       "    <tr>\n",
       "      <th>4</th>\n",
       "      <td>20210924-03:42:02</td>\n",
       "      <td>0.806890</td>\n",
       "      <td>0.653548</td>\n",
       "      <td>NaN</td>\n",
       "    </tr>\n",
       "    <tr>\n",
       "      <th>27</th>\n",
       "      <td>20210924-18:30:11</td>\n",
       "      <td>628.221863</td>\n",
       "      <td>0.647694</td>\n",
       "      <td>NaN</td>\n",
       "    </tr>\n",
       "    <tr>\n",
       "      <th>3</th>\n",
       "      <td>20210924-03:32:17</td>\n",
       "      <td>0.803594</td>\n",
       "      <td>0.645401</td>\n",
       "      <td>NaN</td>\n",
       "    </tr>\n",
       "    <tr>\n",
       "      <th>26</th>\n",
       "      <td>20210924-16:28:57</td>\n",
       "      <td>49092.347656</td>\n",
       "      <td>0.628756</td>\n",
       "      <td>NaN</td>\n",
       "    </tr>\n",
       "    <tr>\n",
       "      <th>5</th>\n",
       "      <td>20210924-03:48:21</td>\n",
       "      <td>1.046374</td>\n",
       "      <td>0.557025</td>\n",
       "      <td>NaN</td>\n",
       "    </tr>\n",
       "    <tr>\n",
       "      <th>7</th>\n",
       "      <td>20210924-13:52:12</td>\n",
       "      <td>1.035004</td>\n",
       "      <td>0.516399</td>\n",
       "      <td>NaN</td>\n",
       "    </tr>\n",
       "  </tbody>\n",
       "</table>\n",
       "</div>"
      ],
      "text/plain": [
       "         ExperimentID      Datetime  test_loss  test_accuracy\n",
       "16  20210924-15:11:41      0.690468   0.691882            NaN\n",
       "21  20210924-15:32:50      0.690823   0.688990            NaN\n",
       "18  20210924-15:23:37      0.701885   0.688461            NaN\n",
       "17  20210924-15:18:24      0.699857   0.688285            NaN\n",
       "8   20210924-14:13:56      0.691638   0.688038            NaN\n",
       "25  20210924-15:49:21      0.715231   0.686627            NaN\n",
       "20  20210924-15:28:06      0.702644   0.684970            NaN\n",
       "2   20210924-03:16:49      0.724557   0.684159            NaN\n",
       "10  20210924-14:35:49      0.721120   0.683665            NaN\n",
       "11  20210924-14:36:52      0.722323   0.680385            NaN\n",
       "28  20210924-18:40:38      0.720577   0.680174            NaN\n",
       "13  20210924-14:38:13      0.749856   0.679962            NaN\n",
       "14  20210924-14:38:59      0.748823   0.679468            NaN\n",
       "12  20210924-14:37:31      0.746569   0.679010            NaN\n",
       "22  20210924-15:34:37      0.757232   0.678622            NaN\n",
       "24  20210924-15:41:40      0.720533   0.676541            NaN\n",
       "6   20210924-13:41:28      0.724492   0.676188            NaN\n",
       "1   20210924-03:08:00      0.736626   0.675448            NaN\n",
       "23  20210924-15:36:22      0.740124   0.669065            NaN\n",
       "9   20210924-14:26:23      0.800538   0.668430            NaN\n",
       "15  20210924-14:39:58      0.819237   0.667584            NaN\n",
       "19  20210924-15:25:26      0.818308   0.662823            NaN\n",
       "4   20210924-03:42:02      0.806890   0.653548            NaN\n",
       "27  20210924-18:30:11    628.221863   0.647694            NaN\n",
       "3   20210924-03:32:17      0.803594   0.645401            NaN\n",
       "26  20210924-16:28:57  49092.347656   0.628756            NaN\n",
       "5   20210924-03:48:21      1.046374   0.557025            NaN\n",
       "7   20210924-13:52:12      1.035004   0.516399            NaN"
      ]
     },
     "execution_count": 90,
     "metadata": {},
     "output_type": "execute_result"
    }
   ],
   "source": [
    "experiment_controller.compare_test_results().sort_values(f\"test_loss\", ascending=False)"
   ]
  },
  {
   "cell_type": "code",
   "execution_count": null,
   "id": "e810003f",
   "metadata": {},
   "outputs": [],
   "source": [
    "%load_ext tensorboard\n",
    "%tensorboard --logdir=songs/logs/tensorboard"
   ]
  }
 ],
 "metadata": {
  "kernelspec": {
   "display_name": "Python 3",
   "language": "python",
   "name": "python3"
  },
  "language_info": {
   "codemirror_mode": {
    "name": "ipython",
    "version": 3
   },
   "file_extension": ".py",
   "mimetype": "text/x-python",
   "name": "python",
   "nbconvert_exporter": "python",
   "pygments_lexer": "ipython3",
   "version": "3.6.13"
  }
 },
 "nbformat": 4,
 "nbformat_minor": 5
}
