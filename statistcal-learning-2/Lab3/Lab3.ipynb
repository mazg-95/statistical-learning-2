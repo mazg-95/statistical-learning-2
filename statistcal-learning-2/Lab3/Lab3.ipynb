{
 "cells": [
  {
   "cell_type": "markdown",
   "id": "9e4d14e7-ffbb-4142-a8cb-4cc00dd81b80",
   "metadata": {},
   "source": [
    "## Lab 3\n",
    "\n",
    "### The Curse of Dimensionality\n",
    "\n",
    "#### Statistical Learning 2\n",
    "\n",
    "##### Marco Zuñiga"
   ]
  },
  {
   "cell_type": "code",
   "execution_count": 4,
   "id": "8da33ce3-5fe6-4b11-90ab-e40dab5d0d3f",
   "metadata": {},
   "outputs": [],
   "source": [
    "from sklearn.preprocessing import PolynomialFeatures\n",
    "import numpy as np\n",
    "import pandas as pd"
   ]
  },
  {
   "cell_type": "code",
   "execution_count": 5,
   "id": "26112c15-d8da-4839-ad2a-04d15fddb194",
   "metadata": {},
   "outputs": [],
   "source": [
    "#Carga de datos\n",
    "data = np.load(\"./proyecto_training_data.npy\")\n",
    "data_df = pd.DataFrame(data, columns=[\"SalePrice\", \"OvrllQual\", \"1stFlrSF\", \"TotRmAbvGrd\", \"YearBuilt\" ,\"LotFrontage\"], dtype='float32')"
   ]
  },
  {
   "cell_type": "code",
   "execution_count": 17,
   "id": "cddadfa3-d0f3-4e7c-a140-e7a6efe42ed2",
   "metadata": {},
   "outputs": [
    {
     "data": {
      "text/html": [
       "<div>\n",
       "<style scoped>\n",
       "    .dataframe tbody tr th:only-of-type {\n",
       "        vertical-align: middle;\n",
       "    }\n",
       "\n",
       "    .dataframe tbody tr th {\n",
       "        vertical-align: top;\n",
       "    }\n",
       "\n",
       "    .dataframe thead th {\n",
       "        text-align: right;\n",
       "    }\n",
       "</style>\n",
       "<table border=\"1\" class=\"dataframe\">\n",
       "  <thead>\n",
       "    <tr style=\"text-align: right;\">\n",
       "      <th></th>\n",
       "      <th>SalePrice</th>\n",
       "      <th>OvrllQual</th>\n",
       "      <th>1stFlrSF</th>\n",
       "    </tr>\n",
       "  </thead>\n",
       "  <tbody>\n",
       "    <tr>\n",
       "      <th>0</th>\n",
       "      <td>208500.0</td>\n",
       "      <td>7.0</td>\n",
       "      <td>856.0</td>\n",
       "    </tr>\n",
       "    <tr>\n",
       "      <th>1</th>\n",
       "      <td>181500.0</td>\n",
       "      <td>6.0</td>\n",
       "      <td>1262.0</td>\n",
       "    </tr>\n",
       "    <tr>\n",
       "      <th>2</th>\n",
       "      <td>223500.0</td>\n",
       "      <td>7.0</td>\n",
       "      <td>920.0</td>\n",
       "    </tr>\n",
       "    <tr>\n",
       "      <th>3</th>\n",
       "      <td>140000.0</td>\n",
       "      <td>7.0</td>\n",
       "      <td>961.0</td>\n",
       "    </tr>\n",
       "    <tr>\n",
       "      <th>4</th>\n",
       "      <td>250000.0</td>\n",
       "      <td>8.0</td>\n",
       "      <td>1145.0</td>\n",
       "    </tr>\n",
       "    <tr>\n",
       "      <th>...</th>\n",
       "      <td>...</td>\n",
       "      <td>...</td>\n",
       "      <td>...</td>\n",
       "    </tr>\n",
       "    <tr>\n",
       "      <th>1455</th>\n",
       "      <td>175000.0</td>\n",
       "      <td>6.0</td>\n",
       "      <td>953.0</td>\n",
       "    </tr>\n",
       "    <tr>\n",
       "      <th>1456</th>\n",
       "      <td>210000.0</td>\n",
       "      <td>6.0</td>\n",
       "      <td>2073.0</td>\n",
       "    </tr>\n",
       "    <tr>\n",
       "      <th>1457</th>\n",
       "      <td>266500.0</td>\n",
       "      <td>7.0</td>\n",
       "      <td>1188.0</td>\n",
       "    </tr>\n",
       "    <tr>\n",
       "      <th>1458</th>\n",
       "      <td>142125.0</td>\n",
       "      <td>5.0</td>\n",
       "      <td>1078.0</td>\n",
       "    </tr>\n",
       "    <tr>\n",
       "      <th>1459</th>\n",
       "      <td>147500.0</td>\n",
       "      <td>5.0</td>\n",
       "      <td>1256.0</td>\n",
       "    </tr>\n",
       "  </tbody>\n",
       "</table>\n",
       "<p>1460 rows × 3 columns</p>\n",
       "</div>"
      ],
      "text/plain": [
       "      SalePrice  OvrllQual  1stFlrSF\n",
       "0      208500.0        7.0     856.0\n",
       "1      181500.0        6.0    1262.0\n",
       "2      223500.0        7.0     920.0\n",
       "3      140000.0        7.0     961.0\n",
       "4      250000.0        8.0    1145.0\n",
       "...         ...        ...       ...\n",
       "1455   175000.0        6.0     953.0\n",
       "1456   210000.0        6.0    2073.0\n",
       "1457   266500.0        7.0    1188.0\n",
       "1458   142125.0        5.0    1078.0\n",
       "1459   147500.0        5.0    1256.0\n",
       "\n",
       "[1460 rows x 3 columns]"
      ]
     },
     "execution_count": 17,
     "metadata": {},
     "output_type": "execute_result"
    }
   ],
   "source": [
    "selected_df = data_df.iloc[:,:3]\n",
    "selected_df"
   ]
  },
  {
   "cell_type": "code",
   "execution_count": 18,
   "id": "00678a1f-2ff3-4b8b-b59e-396c552c3d2e",
   "metadata": {},
   "outputs": [
    {
     "name": "stdout",
     "output_type": "stream",
     "text": [
      "(1460, 4)\n"
     ]
    },
    {
     "data": {
      "text/plain": [
       "array([[1.00000e+00, 2.08500e+05, 7.00000e+00, 8.56000e+02],\n",
       "       [1.00000e+00, 1.81500e+05, 6.00000e+00, 1.26200e+03],\n",
       "       [1.00000e+00, 2.23500e+05, 7.00000e+00, 9.20000e+02],\n",
       "       ...,\n",
       "       [1.00000e+00, 2.66500e+05, 7.00000e+00, 1.18800e+03],\n",
       "       [1.00000e+00, 1.42125e+05, 5.00000e+00, 1.07800e+03],\n",
       "       [1.00000e+00, 1.47500e+05, 5.00000e+00, 1.25600e+03]],\n",
       "      dtype=float32)"
      ]
     },
     "execution_count": 18,
     "metadata": {},
     "output_type": "execute_result"
    }
   ],
   "source": [
    "degree_1 = PolynomialFeatures(1).fit_transform(selected_df)\n",
    "print(degree_1.shape)\n",
    "degree_1"
   ]
  },
  {
   "cell_type": "code",
   "execution_count": 19,
   "id": "82b2e191-98ec-46c0-804d-b508b9eaedd7",
   "metadata": {},
   "outputs": [
    {
     "name": "stdout",
     "output_type": "stream",
     "text": [
      "(1460, 10)\n"
     ]
    },
    {
     "data": {
      "text/plain": [
       "array([[1.000000e+00, 2.085000e+05, 7.000000e+00, ..., 4.900000e+01,\n",
       "        5.992000e+03, 7.327360e+05],\n",
       "       [1.000000e+00, 1.815000e+05, 6.000000e+00, ..., 3.600000e+01,\n",
       "        7.572000e+03, 1.592644e+06],\n",
       "       [1.000000e+00, 2.235000e+05, 7.000000e+00, ..., 4.900000e+01,\n",
       "        6.440000e+03, 8.464000e+05],\n",
       "       ...,\n",
       "       [1.000000e+00, 2.665000e+05, 7.000000e+00, ..., 4.900000e+01,\n",
       "        8.316000e+03, 1.411344e+06],\n",
       "       [1.000000e+00, 1.421250e+05, 5.000000e+00, ..., 2.500000e+01,\n",
       "        5.390000e+03, 1.162084e+06],\n",
       "       [1.000000e+00, 1.475000e+05, 5.000000e+00, ..., 2.500000e+01,\n",
       "        6.280000e+03, 1.577536e+06]], dtype=float32)"
      ]
     },
     "execution_count": 19,
     "metadata": {},
     "output_type": "execute_result"
    }
   ],
   "source": [
    "degree_2 = PolynomialFeatures(2).fit_transform(selected_df)\n",
    "print(degree_2.shape)\n",
    "degree_2"
   ]
  },
  {
   "cell_type": "code",
   "execution_count": 22,
   "id": "1a5ef0bb-80a9-4251-868d-13e3f3c42941",
   "metadata": {},
   "outputs": [
    {
     "name": "stdout",
     "output_type": "stream",
     "text": [
      "(1460, 20)\n"
     ]
    },
    {
     "data": {
      "text/plain": [
       "array([[1.0000000e+00, 2.0850000e+05, 7.0000000e+00, ..., 4.1944000e+04,\n",
       "        5.1291520e+06, 6.2722202e+08],\n",
       "       [1.0000000e+00, 1.8150000e+05, 6.0000000e+00, ..., 4.5432000e+04,\n",
       "        9.5558640e+06, 2.0099167e+09],\n",
       "       [1.0000000e+00, 2.2350000e+05, 7.0000000e+00, ..., 4.5080000e+04,\n",
       "        5.9248000e+06, 7.7868800e+08],\n",
       "       ...,\n",
       "       [1.0000000e+00, 2.6650000e+05, 7.0000000e+00, ..., 5.8212000e+04,\n",
       "        9.8794080e+06, 1.6766766e+09],\n",
       "       [1.0000000e+00, 1.4212500e+05, 5.0000000e+00, ..., 2.6950000e+04,\n",
       "        5.8104200e+06, 1.2527265e+09],\n",
       "       [1.0000000e+00, 1.4750000e+05, 5.0000000e+00, ..., 3.1400000e+04,\n",
       "        7.8876800e+06, 1.9813852e+09]], dtype=float32)"
      ]
     },
     "execution_count": 22,
     "metadata": {},
     "output_type": "execute_result"
    }
   ],
   "source": [
    "degree_3 = PolynomialFeatures(3).fit_transform(selected_df)\n",
    "print(degree_3.shape)\n",
    "degree_3"
   ]
  },
  {
   "cell_type": "code",
   "execution_count": 23,
   "id": "9311ee65-f039-42b4-8f43-70e0f62a94e7",
   "metadata": {},
   "outputs": [
    {
     "name": "stdout",
     "output_type": "stream",
     "text": [
      "(1460, 35)\n"
     ]
    },
    {
     "data": {
      "text/plain": [
       "array([[1.0000000e+00, 2.0850000e+05, 7.0000000e+00, ..., 3.5904064e+07,\n",
       "        4.3905541e+09, 5.3690204e+11],\n",
       "       [1.0000000e+00, 1.8150000e+05, 6.0000000e+00, ..., 5.7335184e+07,\n",
       "        1.2059501e+10, 2.5365148e+12],\n",
       "       [1.0000000e+00, 2.2350000e+05, 7.0000000e+00, ..., 4.1473600e+07,\n",
       "        5.4508160e+09, 7.1639296e+11],\n",
       "       ...,\n",
       "       [1.0000000e+00, 2.6650000e+05, 7.0000000e+00, ..., 6.9155856e+07,\n",
       "        1.1736736e+10, 1.9918917e+12],\n",
       "       [1.0000000e+00, 1.4212500e+05, 5.0000000e+00, ..., 2.9052100e+07,\n",
       "        6.2636329e+09, 1.3504391e+12],\n",
       "       [1.0000000e+00, 1.4750000e+05, 5.0000000e+00, ..., 3.9438400e+07,\n",
       "        9.9069256e+09, 2.4886198e+12]], dtype=float32)"
      ]
     },
     "execution_count": 23,
     "metadata": {},
     "output_type": "execute_result"
    }
   ],
   "source": [
    "degree_4 = PolynomialFeatures(4).fit_transform(selected_df)\n",
    "print(degree_4.shape)\n",
    "degree_4"
   ]
  },
  {
   "cell_type": "code",
   "execution_count": 24,
   "id": "90f5cc84-c049-43fa-a09a-96fa9aac61c9",
   "metadata": {},
   "outputs": [
    {
     "name": "stdout",
     "output_type": "stream",
     "text": [
      "(1460, 56)\n"
     ]
    },
    {
     "data": {
      "text/plain": [
       "array([[1.0000000e+00, 2.0850000e+05, 7.0000000e+00, ..., 3.0733879e+10,\n",
       "        3.7583142e+12, 4.5958814e+14],\n",
       "       [1.0000000e+00, 1.8150000e+05, 6.0000000e+00, ..., 7.2357003e+10,\n",
       "        1.5219089e+13, 3.2010815e+15],\n",
       "       [1.0000000e+00, 2.2350000e+05, 7.0000000e+00, ..., 3.8155710e+10,\n",
       "        5.0147508e+12, 6.5908152e+14],\n",
       "       ...,\n",
       "       [1.0000000e+00, 2.6650000e+05, 7.0000000e+00, ..., 8.2157150e+10,\n",
       "        1.3943242e+13, 2.3663675e+15],\n",
       "       [1.0000000e+00, 1.4212500e+05, 5.0000000e+00, ..., 3.1318163e+10,\n",
       "        6.7521956e+12, 1.4557734e+15],\n",
       "       [1.0000000e+00, 1.4750000e+05, 5.0000000e+00, ..., 4.9534628e+10,\n",
       "        1.2443099e+13, 3.1257065e+15]], dtype=float32)"
      ]
     },
     "execution_count": 24,
     "metadata": {},
     "output_type": "execute_result"
    }
   ],
   "source": [
    "degree_5 = PolynomialFeatures(5).fit_transform(selected_df)\n",
    "print(degree_5.shape)\n",
    "degree_5"
   ]
  },
  {
   "cell_type": "code",
   "execution_count": 37,
   "id": "71a1fe13-1c09-473c-af35-a0cda6a7bfb3",
   "metadata": {},
   "outputs": [
    {
     "data": {
      "text/html": [
       "<div>\n",
       "<style scoped>\n",
       "    .dataframe tbody tr th:only-of-type {\n",
       "        vertical-align: middle;\n",
       "    }\n",
       "\n",
       "    .dataframe tbody tr th {\n",
       "        vertical-align: top;\n",
       "    }\n",
       "\n",
       "    .dataframe thead th {\n",
       "        text-align: right;\n",
       "    }\n",
       "</style>\n",
       "<table border=\"1\" class=\"dataframe\">\n",
       "  <thead>\n",
       "    <tr style=\"text-align: right;\">\n",
       "      <th></th>\n",
       "      <th>X</th>\n",
       "      <th>Y</th>\n",
       "    </tr>\n",
       "  </thead>\n",
       "  <tbody>\n",
       "    <tr>\n",
       "      <th>0</th>\n",
       "      <td>1</td>\n",
       "      <td>4</td>\n",
       "    </tr>\n",
       "    <tr>\n",
       "      <th>1</th>\n",
       "      <td>2</td>\n",
       "      <td>10</td>\n",
       "    </tr>\n",
       "    <tr>\n",
       "      <th>2</th>\n",
       "      <td>3</td>\n",
       "      <td>20</td>\n",
       "    </tr>\n",
       "    <tr>\n",
       "      <th>3</th>\n",
       "      <td>4</td>\n",
       "      <td>35</td>\n",
       "    </tr>\n",
       "    <tr>\n",
       "      <th>4</th>\n",
       "      <td>5</td>\n",
       "      <td>56</td>\n",
       "    </tr>\n",
       "  </tbody>\n",
       "</table>\n",
       "</div>"
      ],
      "text/plain": [
       "   X   Y\n",
       "0  1   4\n",
       "1  2  10\n",
       "2  3  20\n",
       "3  4  35\n",
       "4  5  56"
      ]
     },
     "execution_count": 37,
     "metadata": {},
     "output_type": "execute_result"
    }
   ],
   "source": [
    "x = range(1,6)\n",
    "y = [4,10,20,35,56]\n",
    "\n",
    "df = pd.DataFrame(data = {\"X\":x, \"Y\":y})\n",
    "df"
   ]
  },
  {
   "cell_type": "code",
   "execution_count": 39,
   "id": "f7028524-1812-4ff3-96b2-61fb09195539",
   "metadata": {},
   "outputs": [
    {
     "data": {
      "text/plain": [
       "<AxesSubplot:xlabel='X', ylabel='Y'>"
      ]
     },
     "execution_count": 39,
     "metadata": {},
     "output_type": "execute_result"
    },
    {
     "data": {
      "image/png": "[encoded data removed]",
      "text/plain": [
       "<Figure size 432x288 with 1 Axes>"
      ]
     },
     "metadata": {
      "needs_background": "light"
     },
     "output_type": "display_data"
    }
   ],
   "source": [
    "df.plot.scatter(x=\"X\", y=\"Y\")"
   ]
  },
  {
   "cell_type": "markdown",
   "id": "e6945b83-566f-4500-9599-55cf3e3704a8",
   "metadata": {},
   "source": [
    "##### Conclusion\n",
    "\n",
    "El crecimiento del numero de variables que se generan muestra un comportamiento exponencial. Para un crecicmiento lineal del grado del polinomio, nos encontramos que el numero de variables se comporta de forma exponencial. El problema que nostrae este comportamiento es el de maldicion de dimensionalidad que produce mayor dificultad para los algoritmos de ML detectar diferencias entre las observaciones. Esto debido a que la mayoria de modelos se basan en la distancia euclidiana, y en altas dimensiones pareciera que los puntos se encuentran a la misma distancia uno de otro, siendo poco significativa la forma en que se pueden agrupar o generalizar a partir de esos datos."
   ]
  }
 ],
 "metadata": {
  "kernelspec": {
   "display_name": "Python 3",
   "language": "python",
   "name": "python3"
  },
  "language_info": {
   "codemirror_mode": {
    "name": "ipython",
    "version": 3
   },
   "file_extension": ".py",
   "mimetype": "text/x-python",
   "name": "python",
   "nbconvert_exporter": "python",
   "pygments_lexer": "ipython3",
   "version": "3.8.5"
  }
 },
 "nbformat": 4,
 "nbformat_minor": 5
}
