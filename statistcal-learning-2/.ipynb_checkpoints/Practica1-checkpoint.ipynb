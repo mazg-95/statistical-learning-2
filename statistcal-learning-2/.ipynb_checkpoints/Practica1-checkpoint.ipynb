{
 "cells": [
  {
   "cell_type": "code",
   "execution_count": 1,
   "id": "0381f73d-f529-4a94-8fd9-33391406f0ee",
   "metadata": {},
   "outputs": [],
   "source": [
    "import numpy as np\n",
    "import pandas as pd\n",
    "from sklearn.mixture import GaussianMixture\n",
    "from sklearn.preprocessing import StandardScaler\n",
    "from sklearn.preprocessing import Normalizer"
   ]
  },
  {
   "cell_type": "code",
   "execution_count": 2,
   "id": "ed6879a7-932a-4100-844a-caca260c1648",
   "metadata": {},
   "outputs": [],
   "source": [
    "my_data = np.genfromtxt('estaturas.csv', delimiter=',', skip_header=1)"
   ]
  },
  {
   "cell_type": "markdown",
   "id": "0bad8866-f541-4b58-9f0b-9b8285a040c2",
   "metadata": {},
   "source": [
    "### K - Means (Hard Clustering)"
   ]
  },
  {
   "cell_type": "code",
   "execution_count": 3,
   "id": "4dd2b16c-bf2e-4d96-b5d4-e538957e267f",
   "metadata": {},
   "outputs": [
    {
     "name": "stdout",
     "output_type": "stream",
     "text": [
      "Centroids: \n",
      "[[0.0500928  0.99872358]\n",
      " [0.07000698 0.99752847]]\n",
      "0.0051072264333676684\n"
     ]
    },
    {
     "data": {
      "text/plain": [
       "array([1, 0, 1, 0, 0, 0, 1, 0, 1, 1, 1, 1, 1, 1, 1, 0, 1, 1, 1, 1, 0, 0,\n",
       "       1, 1, 0, 0, 0, 1, 1, 0, 1, 1, 0, 0, 0, 0, 1, 1, 1, 0, 1, 0, 0, 0],\n",
       "      dtype=int64)"
      ]
     },
     "execution_count": 3,
     "metadata": {},
     "output_type": "execute_result"
    }
   ],
   "source": [
    "np.random.seed(0)\n",
    "def k_means(X, k = 2):\n",
    "    # random intialize k cluster centroids\n",
    "    scaler = Normalizer().fit(X)\n",
    "    X = scaler.transform(X)\n",
    "    indices = np.random.choice(X.shape[0], k, replace=False)\n",
    "    centroids = X[indices]\n",
    "    last_centroids = np.zeros(centroids.shape)\n",
    "    # repeat until convergance\n",
    "    while not np.array_equal(centroids, last_centroids):\n",
    "        # index closest cluster centroid\n",
    "        closest_centroid_cluster = np.argmin(np.array([np.linalg.norm(X - centroids[i], axis = 1) for i in range(k)]), axis = 0)\n",
    "        last_centroids = centroids.copy()\n",
    "        # recalculate centroids with new cluster's point\n",
    "        centroids = np.array([np.mean(X[closest_centroid_cluster == i], axis=0) for i in range(k)])\n",
    "    \n",
    "    closest_centroid_cluster = np.argmin(np.array([np.linalg.norm(X - centroids[i], axis = 1) for i in range(k)]), axis = 0)\n",
    "    mu_i = np.take(centroids, closest_centroid_cluster, axis=0)\n",
    "    cost = np.mean(np.linalg.norm(np.subtract(X,  mu_i), axis = 1))\n",
    "    \n",
    "    def predict(newdata):\n",
    "        newdata = scaler.transform(newdata)\n",
    "        return np.argmin(np.array([np.linalg.norm(newdata - centroids[i], axis = 1) for i in range(k)]), axis = 0)\n",
    "    return centroids, predict, cost\n",
    "        \n",
    "        \n",
    "    \n",
    "    \n",
    "c2, k_means_predict, cost = k_means(my_data)\n",
    "\n",
    "print(\"Centroids: \", c2, cost, sep=\"\\n\" )\n",
    "\n",
    "k_means_predict(my_data)\n"
   ]
  },
  {
   "cell_type": "code",
   "execution_count": 4,
   "id": "9f02f03d-bbf2-4cd5-bef6-81d4c5fc6df3",
   "metadata": {},
   "outputs": [
    {
     "name": "stdout",
     "output_type": "stream",
     "text": [
      "Centroids: \n",
      "[[0.04921565 0.99876876]\n",
      " [0.07481463 0.99719136]\n",
      " [0.06335013 0.99798689]]\n",
      "0.003570753271696856\n"
     ]
    },
    {
     "data": {
      "text/plain": [
       "array([2, 0, 1, 0, 0, 2, 2, 0, 1, 1, 1, 1, 1, 2, 1, 0, 2, 2, 2, 2, 0, 0,\n",
       "       1, 1, 0, 0, 0, 2, 2, 0, 2, 1, 0, 0, 0, 2, 1, 1, 1, 0, 2, 0, 0, 0],\n",
       "      dtype=int64)"
      ]
     },
     "execution_count": 4,
     "metadata": {},
     "output_type": "execute_result"
    }
   ],
   "source": [
    "c3, k_means_predict,cost = k_means(my_data, 3)\n",
    "\n",
    "print(\"Centroids: \", c3, cost, sep=\"\\n\" )\n",
    "\n",
    "k_means_predict(my_data)"
   ]
  },
  {
   "cell_type": "code",
   "execution_count": 5,
   "id": "676c5d8d-0c43-41b6-a6e5-43b5bd563dd3",
   "metadata": {},
   "outputs": [
    {
     "name": "stdout",
     "output_type": "stream",
     "text": [
      "Centroids: \n",
      "[[0.04030764 0.99917747]\n",
      " [0.05335452 0.99857228]\n",
      " [0.06432522 0.99792688]\n",
      " [0.07481463 0.99719136]]\n",
      "0.0024771959966766056\n"
     ]
    },
    {
     "data": {
      "text/plain": [
       "array([2, 1, 3, 1, 1, 1, 2, 1, 3, 3, 3, 3, 3, 2, 3, 1, 2, 2, 2, 2, 1, 0,\n",
       "       3, 3, 0, 1, 1, 2, 2, 1, 2, 3, 1, 1, 0, 1, 3, 3, 3, 0, 2, 1, 1, 0],\n",
       "      dtype=int64)"
      ]
     },
     "execution_count": 5,
     "metadata": {},
     "output_type": "execute_result"
    }
   ],
   "source": [
    "c4, k_means_predict, cost = k_means(my_data, 4)\n",
    "\n",
    "print(\"Centroids: \", c4, cost, sep=\"\\n\" )\n",
    "k_means_predict(my_data)"
   ]
  },
  {
   "cell_type": "code",
   "execution_count": 6,
   "id": "3166ad5d-bcee-49b6-895c-f2252dcdc876",
   "metadata": {},
   "outputs": [
    {
     "name": "stdout",
     "output_type": "stream",
     "text": [
      "Centroids: \n",
      "[[0.05014124 0.99873897]\n",
      " [0.06432522 0.99792688]\n",
      " [0.03685994 0.99931902]\n",
      " [0.05569482 0.9984464 ]\n",
      " [0.07481463 0.99719136]]\n",
      "0.002051903412255914\n"
     ]
    },
    {
     "data": {
      "text/plain": [
       "array([1, 3, 4, 0, 0, 3, 1, 3, 4, 4, 4, 4, 4, 1, 4, 0, 1, 1, 1, 1, 3, 0,\n",
       "       4, 4, 0, 0, 3, 1, 1, 3, 1, 4, 0, 0, 2, 3, 4, 4, 4, 2, 1, 0, 0, 2],\n",
       "      dtype=int64)"
      ]
     },
     "execution_count": 6,
     "metadata": {},
     "output_type": "execute_result"
    }
   ],
   "source": [
    "c5, k_means_predict, cost = k_means(my_data, 5)\n",
    "\n",
    "print(\"Centroids: \", c5, cost, sep=\"\\n\" )\n",
    "\n",
    "k_means_predict(my_data)"
   ]
  },
  {
   "cell_type": "code",
   "execution_count": 7,
   "id": "88105d8d-9d94-47b6-92bc-518590db7172",
   "metadata": {},
   "outputs": [
    {
     "name": "stdout",
     "output_type": "stream",
     "text": [
      "Centroids: \n",
      "[[0.05296366 0.998594  ]\n",
      " [0.06349856 0.99797937]\n",
      " [0.07500834 0.99718268]\n",
      " [0.04030764 0.99917747]\n",
      " [0.08011986 0.99678305]\n",
      " [0.07085143 0.99748598]]\n",
      "0.0018757094719380925\n"
     ]
    },
    {
     "data": {
      "text/plain": [
       "array([5, 0, 5, 0, 0, 0, 1, 0, 5, 4, 2, 5, 2, 1, 5, 0, 1, 1, 1, 1, 0, 3,\n",
       "       2, 2, 3, 0, 0, 1, 1, 0, 1, 4, 0, 0, 3, 1, 5, 4, 2, 3, 1, 0, 0, 3],\n",
       "      dtype=int64)"
      ]
     },
     "execution_count": 7,
     "metadata": {},
     "output_type": "execute_result"
    }
   ],
   "source": [
    "c6, k_means_predict, cost = k_means(my_data, 6)\n",
    "\n",
    "print(\"Centroids: \", c6, cost, sep=\"\\n\" )\n",
    "\n",
    "k_means_predict(my_data)"
   ]
  },
  {
   "cell_type": "markdown",
   "id": "8aed916f-8ba9-4e26-96aa-7ca8beabc882",
   "metadata": {},
   "source": [
    "### GMM (Soft Clustering)"
   ]
  },
  {
   "cell_type": "code",
   "execution_count": 8,
   "id": "bd5995a5-fcad-400b-927e-b479a86a501a",
   "metadata": {},
   "outputs": [
    {
     "name": "stdout",
     "output_type": "stream",
     "text": [
      "[0.5844639 0.4155361]\n",
      "[[ 1.72672041 25.65097028]\n",
      " [ 1.74391079 35.13255044]]\n",
      "[[[ 6.93959706e-03 -8.72064787e-02]\n",
      "  [-8.72064787e-02  4.93515384e+00]]\n",
      "\n",
      " [[ 3.95260528e-03  2.08407415e-01]\n",
      "  [ 2.08407415e-01  5.10314454e+01]]]\n"
     ]
    },
    {
     "data": {
      "text/plain": [
       "array([0, 1, 0, 1, 1, 0, 0, 1, 0, 0, 0, 0, 0, 0, 0, 1, 0, 0, 0, 0, 1, 1,\n",
       "       0, 0, 1, 1, 0, 0, 0, 0, 0, 0, 1, 1, 1, 0, 0, 0, 0, 1, 0, 0, 1, 1],\n",
       "      dtype=int64)"
      ]
     },
     "execution_count": 8,
     "metadata": {},
     "output_type": "execute_result"
    }
   ],
   "source": [
    "gmm = GaussianMixture(n_components=2, random_state=0).fit(my_data)\n",
    "print(gmm.weights_, gmm.means_, gmm.covariances_, sep=\"\\n\")\n",
    "gmm.predict(my_data)"
   ]
  },
  {
   "cell_type": "code",
   "execution_count": 9,
   "id": "1dbc6875-8718-4937-b904-67ce86f2458f",
   "metadata": {},
   "outputs": [
    {
     "name": "stdout",
     "output_type": "stream",
     "text": [
      "[0.59776909 0.0681826  0.33404831]\n",
      "[[ 1.73144879 25.32984987]\n",
      " [ 1.77666718 48.33321462]\n",
      " [ 1.7294483  33.39045048]]\n",
      "[[[ 6.46382811e-03 -6.35013556e-02]\n",
      "  [-6.35013556e-02  3.89434655e+00]]\n",
      "\n",
      " [[ 8.08975271e-03  3.24437564e-01]\n",
      "  [ 3.24437564e-01  1.68898199e+01]]\n",
      "\n",
      " [[ 3.65153077e-03  1.07198996e-01]\n",
      "  [ 1.07198996e-01  8.43382123e+00]]]\n"
     ]
    },
    {
     "data": {
      "text/plain": [
       "array([0, 2, 0, 2, 2, 2, 0, 2, 0, 0, 0, 0, 0, 0, 0, 2, 0, 0, 0, 0, 2, 2,\n",
       "       0, 0, 2, 2, 0, 0, 0, 2, 0, 0, 2, 2, 1, 0, 0, 0, 0, 1, 0, 2, 2, 1],\n",
       "      dtype=int64)"
      ]
     },
     "execution_count": 9,
     "metadata": {},
     "output_type": "execute_result"
    }
   ],
   "source": [
    "gmm = GaussianMixture(n_components=3, random_state=0).fit(my_data)\n",
    "print(gmm.weights_, gmm.means_, gmm.covariances_, sep=\"\\n\")\n",
    "gmm.predict(my_data)"
   ]
  },
  {
   "cell_type": "code",
   "execution_count": 10,
   "id": "6858cb7a-9333-4983-a77f-fb384d285478",
   "metadata": {},
   "outputs": [
    {
     "name": "stdout",
     "output_type": "stream",
     "text": [
      "[0.61569388 0.04545455 0.06848477 0.2703668 ]\n",
      "[[ 1.72951118 25.40417957]\n",
      " [ 1.84       51.        ]\n",
      " [ 1.73410272 40.29394192]\n",
      " [ 1.72587089 32.81470921]]\n",
      "[[[ 6.42412823e-03 -6.57514551e-02]\n",
      "  [-6.57514551e-02  4.00770724e+00]]\n",
      "\n",
      " [[ 1.01000000e-04 -2.00000000e-02]\n",
      "  [-2.00000000e-02  4.00000100e+00]]\n",
      "\n",
      " [[ 3.96641090e-03 -9.90708762e-02]\n",
      "  [-9.90708762e-02  4.47709573e+00]]\n",
      "\n",
      " [[ 3.69000670e-03  5.79946321e-02]\n",
      "  [ 5.79946321e-02  2.53757226e+00]]]\n"
     ]
    },
    {
     "data": {
      "text/plain": [
       "array([0, 3, 0, 3, 3, 0, 0, 3, 0, 0, 0, 0, 0, 0, 0, 3, 0, 0, 0, 0, 3, 2,\n",
       "       0, 0, 2, 3, 0, 0, 0, 3, 0, 0, 3, 3, 1, 0, 0, 0, 0, 2, 0, 3, 3, 1],\n",
       "      dtype=int64)"
      ]
     },
     "execution_count": 10,
     "metadata": {},
     "output_type": "execute_result"
    }
   ],
   "source": [
    "gmm = GaussianMixture(n_components=4, random_state=0).fit(my_data)\n",
    "print(gmm.weights_, gmm.means_, gmm.covariances_, sep=\"\\n\")\n",
    "gmm.predict(my_data)"
   ]
  },
  {
   "cell_type": "code",
   "execution_count": 11,
   "id": "e6fdee81-f0dd-4b39-98fb-795d09e7058f",
   "metadata": {},
   "outputs": [
    {
     "name": "stdout",
     "output_type": "stream",
     "text": [
      "[0.58537131 0.04545455 0.06836993 0.13116985 0.16963437]\n",
      "[[ 1.7362058  25.20349937]\n",
      " [ 1.84       51.        ]\n",
      " [ 1.73363053 40.31608248]\n",
      " [ 1.75614552 34.16007291]\n",
      " [ 1.68020594 31.13839887]]\n",
      "[[[ 5.69768400e-03 -4.26211562e-02]\n",
      "  [-4.26211562e-02  3.37652432e+00]]\n",
      "\n",
      " [[ 1.01000000e-04 -2.00000000e-02]\n",
      "  [-2.00000000e-02  4.00000100e+00]]\n",
      "\n",
      " [[ 3.91373893e-03 -9.60623059e-02]\n",
      "  [-9.60623059e-02  4.31863562e+00]]\n",
      "\n",
      " [[ 1.90900183e-03 -4.18524307e-03]\n",
      "  [-4.18524307e-03  1.55755847e-01]]\n",
      "\n",
      " [[ 4.97271213e-03  6.97018088e-02]\n",
      "  [ 6.97018088e-02  1.99369804e+00]]]\n"
     ]
    },
    {
     "data": {
      "text/plain": [
       "array([0, 4, 0, 3, 4, 0, 0, 3, 0, 0, 0, 0, 0, 0, 0, 3, 0, 0, 0, 0, 4, 2,\n",
       "       0, 0, 2, 3, 4, 0, 0, 4, 0, 0, 3, 4, 1, 0, 0, 0, 0, 2, 0, 4, 3, 1],\n",
       "      dtype=int64)"
      ]
     },
     "execution_count": 11,
     "metadata": {},
     "output_type": "execute_result"
    }
   ],
   "source": [
    "gmm = GaussianMixture(n_components=5, random_state=0).fit(my_data)\n",
    "print(gmm.weights_, gmm.means_, gmm.covariances_, sep=\"\\n\")\n",
    "gmm.predict(my_data)"
   ]
  },
  {
   "cell_type": "code",
   "execution_count": 12,
   "id": "2108b3a9-d26a-4e39-a285-bbe35908ae09",
   "metadata": {},
   "outputs": [
    {
     "name": "stdout",
     "output_type": "stream",
     "text": [
      "[0.25422732 0.04545455 0.06835593 0.13086983 0.19645942 0.30463295]\n",
      "[[ 1.68817803 26.36625852]\n",
      " [ 1.84       51.        ]\n",
      " [ 1.73360625 40.31736966]\n",
      " [ 1.7573891  34.15744719]\n",
      " [ 1.67427923 30.82714824]\n",
      " [ 1.7845308  23.92160652]]\n",
      "[[[ 3.15153997e-03  2.22959849e-02]\n",
      "  [ 2.22959849e-02  9.16961838e-01]]\n",
      "\n",
      " [[ 1.01000000e-04 -2.00000000e-02]\n",
      "  [-2.00000000e-02  4.00000100e+00]]\n",
      "\n",
      " [[ 3.91172381e-03 -9.59287993e-02]\n",
      "  [-9.59287993e-02  4.31138134e+00]]\n",
      "\n",
      " [[ 1.98836682e-03 -4.31237641e-03]\n",
      "  [-4.31237641e-03  1.51340600e-01]]\n",
      "\n",
      " [[ 4.50304476e-03  6.88960917e-02]\n",
      "  [ 6.88960917e-02  2.48237770e+00]]\n",
      "\n",
      " [[ 3.14301950e-03  3.74598927e-02]\n",
      "  [ 3.74598927e-02  1.78403002e+00]]]\n"
     ]
    },
    {
     "data": {
      "text/plain": [
       "array([0, 4, 5, 3, 4, 4, 0, 3, 5, 5, 5, 5, 5, 0, 5, 3, 0, 0, 0, 0, 4, 2,\n",
       "       5, 5, 2, 3, 4, 0, 0, 4, 0, 5, 3, 4, 1, 0, 5, 5, 5, 2, 0, 4, 3, 1],\n",
       "      dtype=int64)"
      ]
     },
     "execution_count": 12,
     "metadata": {},
     "output_type": "execute_result"
    }
   ],
   "source": [
    "gmm = GaussianMixture(n_components=6, random_state=0).fit(my_data)\n",
    "print(gmm.weights_, gmm.means_, gmm.covariances_, sep=\"\\n\")\n",
    "gmm.predict(my_data)\n"
   ]
  },
  {
   "cell_type": "markdown",
   "id": "6c8932ad-5eed-47be-a293-d52bad46d7e3",
   "metadata": {},
   "source": [
    "### Metodo del Codo"
   ]
  },
  {
   "cell_type": "code",
   "execution_count": 13,
   "id": "05f1319e-66c4-4e7b-a848-9f62e6be438b",
   "metadata": {},
   "outputs": [],
   "source": [
    "import matplotlib.pyplot as plt\n",
    "%matplotlib inline"
   ]
  },
  {
   "cell_type": "code",
   "execution_count": 14,
   "id": "e8ecbdc5-7894-405b-ace5-1d09c22a3fe6",
   "metadata": {},
   "outputs": [
    {
     "data": {
      "image/png": "[encoded data removed]",
      "text/plain": [
       "<Figure size 432x288 with 1 Axes>"
      ]
     },
     "metadata": {
      "needs_background": "light"
     },
     "output_type": "display_data"
    }
   ],
   "source": [
    "x, y = zip(*[(i, k_means(my_data, i)[2]) for i in range(2,10)])\n",
    "plt.plot(x,y, 'ro-', markersize=8, lw=2)\n",
    "plt.grid(True)\n",
    "plt.xlabel(\"K\")\n",
    "plt.ylabel(\"Distortion\")\n",
    "plt.show()"
   ]
  },
  {
   "cell_type": "code",
   "execution_count": null,
   "id": "e804876f-5f79-48ac-ab22-8100a4de54f4",
   "metadata": {},
   "outputs": [],
   "source": [
    "plt.plot(X[:,0], X[:,1])"
   ]
  },
  {
   "cell_type": "markdown",
   "id": "8b739281-3ba9-470e-8168-5fcce2ecf442",
   "metadata": {},
   "source": [
    "El metodo del codo parace ser un buen indicador para seleccionar el numero de clusters para este problema. "
   ]
  },
  {
   "cell_type": "markdown",
   "id": "1a0897ad-d0ff-4795-a25d-351eed07e9d7",
   "metadata": {},
   "source": [
    "### Predict"
   ]
  },
  {
   "cell_type": "code",
   "execution_count": 15,
   "id": "3daa9c62-2669-4389-9e85-10ce1be5cadd",
   "metadata": {},
   "outputs": [],
   "source": [
    "x_test = np.genfromtxt('estaturas_test.csv', delimiter=',', skip_header=1)"
   ]
  },
  {
   "cell_type": "code",
   "execution_count": 22,
   "id": "da223f6e-9ee4-42c9-bb20-e1774d1d0283",
   "metadata": {},
   "outputs": [
    {
     "name": "stdout",
     "output_type": "stream",
     "text": [
      "Centroids:  [[0.07262476 0.99735806]\n",
      " [0.06335013 0.99798689]\n",
      " [0.0783184  0.99692463]\n",
      " [0.04921565 0.99876876]]\n"
     ]
    },
    {
     "data": {
      "text/plain": [
       "array([0, 1, 3, 3, 1, 3, 1, 3], dtype=int64)"
      ]
     },
     "execution_count": 22,
     "metadata": {},
     "output_type": "execute_result"
    }
   ],
   "source": [
    "c3, k_means_predict, _ = k_means(my_data, 4)\n",
    "\n",
    "print(\"Centroids: \", c3)\n",
    "\n",
    "k_means_predict(x_test)"
   ]
  },
  {
   "cell_type": "code",
   "execution_count": 19,
   "id": "53558a7d-9d4a-426c-9400-cfc38298e4c5",
   "metadata": {},
   "outputs": [
    {
     "data": {
      "text/plain": [
       "array([0, 0, 3, 3, 0, 3, 3, 3], dtype=int64)"
      ]
     },
     "execution_count": 19,
     "metadata": {},
     "output_type": "execute_result"
    }
   ],
   "source": [
    "gmm = GaussianMixture(n_components=4, random_state=0).fit(my_data)\n",
    "gmm.predict(x_test)"
   ]
  },
  {
   "cell_type": "markdown",
   "id": "1dd1ae79-c12a-448d-ac06-4bd8639317c6",
   "metadata": {},
   "source": [
    "### Monte Carlo"
   ]
  },
  {
   "cell_type": "code",
   "execution_count": 18,
   "id": "6b6dee45-5b9b-48bb-a95b-16b0424a36ac",
   "metadata": {},
   "outputs": [
    {
     "name": "stdout",
     "output_type": "stream",
     "text": [
      "[[ 1.68968507 27.20458134]\n",
      " [ 1.76501866 25.12665065]\n",
      " [ 1.8339259  25.61585594]\n",
      " ...\n",
      " [ 1.59095553 28.93972929]\n",
      " [ 1.6853075  33.52501436]\n",
      " [ 1.69279511 33.15619321]]\n"
     ]
    },
    {
     "data": {
      "text/plain": [
       "0.06104490186340454"
      ]
     },
     "execution_count": 18,
     "metadata": {},
     "output_type": "execute_result"
    }
   ],
   "source": [
    "samples, _ = gmm.sample(1000)\n",
    "print(samples)\n",
    "np.mean(samples[:,0]/samples[:,1])"
   ]
  }
 ],
 "metadata": {
  "kernelspec": {
   "display_name": "Python 3",
   "language": "python",
   "name": "python3"
  },
  "language_info": {
   "codemirror_mode": {
    "name": "ipython",
    "version": 3
   },
   "file_extension": ".py",
   "mimetype": "text/x-python",
   "name": "python",
   "nbconvert_exporter": "python",
   "pygments_lexer": "ipython3",
   "version": "3.8.5"
  }
 },
 "nbformat": 4,
 "nbformat_minor": 5
}
